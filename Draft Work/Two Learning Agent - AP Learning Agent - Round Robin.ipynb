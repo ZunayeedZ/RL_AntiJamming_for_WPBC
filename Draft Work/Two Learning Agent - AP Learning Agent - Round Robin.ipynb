{
 "cells": [
  {
   "cell_type": "code",
   "execution_count": 4,
   "id": "cba86602",
   "metadata": {},
   "outputs": [],
   "source": [
    "#Import dependencies\n",
    "import numpy as np\n",
    "import math\n",
    "import random\n",
    "import matplotlib.pyplot as plt #for plotting functions\n",
    "from scipy.special import erfc\n",
    "from numpy import sum,isrealobj,sqrt\n",
    "from numpy.random import standard_normal\n",
    "from scipy.special import erfc"
   ]
  },
  {
   "cell_type": "markdown",
   "id": "8cf5ed22",
   "metadata": {},
   "source": [
    "### Required Functions ###"
   ]
  },
  {
   "cell_type": "code",
   "execution_count": 5,
   "id": "aaa988d9",
   "metadata": {},
   "outputs": [],
   "source": [
    "#BPSK Modulation\n",
    "def bpsk_mod(mu,L):\n",
    "    from scipy.signal import upfirdn\n",
    "    s_bb = upfirdn(h=[1]*L, x=mu, up = L) # NRZ encoder; upfirdn: Upsample, FIR filter, and downsample.\n",
    "    t=np.arange(start = 0,stop = len(mu)*L) #discrete time base\n",
    "    return (s_bb,t)\n",
    "\n",
    "#BPSK demodulation        \n",
    "def bpsk_demod(r_bb,L):\n",
    "    x = np.real(r_bb) # I arm\n",
    "    x = np.convolve(x,np.ones(L)) # integrate for Tb duration (L samples)\n",
    "    x = x[L-1:-1:L] # I arm - sample at every L\n",
    "    ak_hat = (x > 0).transpose() # threshold detector\n",
    "    return ak_hat\n",
    "\n",
    "#Noise (AP to BD)\n",
    "def noise(s,SNRdB,L=1):\n",
    "    gamma = 10**(SNRdB/10) #SNR to linear scale\n",
    "    if s.ndim==1: # if s is single dimensional vector\n",
    "        P=L*sum(abs(s)**2)/len(s) #Actual power in the vector\n",
    "    else: # multi-dimensional signals like MFSK\n",
    "        P=L*sum(sum(abs(s)**2))/len(s) # if s is a matrix [MxN]\n",
    "    N0=P/gamma # Find the noise spectral density\n",
    "    if isrealobj(s): # check if input is real/complex object type\n",
    "        n = sqrt(N0/2)*standard_normal(s.shape) # computed noise\n",
    "    else:\n",
    "        n = sqrt(N0/2)*(standard_normal(s.shape)+1j*standard_normal(s.shape))\n",
    "    #r = s + n # received signal\n",
    "    return n\n",
    "\n",
    "#Noise (BD to AP)\n",
    "def awgn(s,SNRdB,L=1):\n",
    "    gamma = 10**(SNRdB/10) #SNR to linear scale\n",
    "    if s.ndim==1: # if s is single dimensional vector\n",
    "        P=L*sum(abs(s)**2)/len(s) #Actual power in the vector\n",
    "    else: # multi-dimensional signals like MFSK\n",
    "        P=L*sum(sum(abs(s)**2))/len(s) # if s is a matrix [MxN]\n",
    "    N0=P/gamma # Find the noise spectral density\n",
    "    if isrealobj(s): # check if input is real/complex object type\n",
    "        n = sqrt(N0/2)*standard_normal(s.shape) # computed noise\n",
    "    else:\n",
    "        n = sqrt(N0/2)*(standard_normal(s.shape)+1j*standard_normal(s.shape))\n",
    "    r = s + n # received signal #AWGN channel\n",
    "    return r\n",
    "\n",
    "# In theoretical analyses and simulations, for AWGN, the channel gain ℎ is often considered as a complex Gaussian random variable \n",
    "# with unity magnitude (i.e.,|ℎ∣=1) and uniformly distributed phase between 0 and 2π. This assumption simplifies \n",
    "# the analysis and is a common model used in communication theory to characterize the effects of the channel."
   ]
  },
  {
   "cell_type": "markdown",
   "id": "4cc4cc29",
   "metadata": {},
   "source": [
    "### More Required Functions ###"
   ]
  },
  {
   "cell_type": "code",
   "execution_count": 6,
   "id": "9af27035",
   "metadata": {},
   "outputs": [],
   "source": [
    "#Pathloss Model - Log distance\n",
    "def logNormalShadowing(Pt_dBm,Gt_dBi,Gr_dBi,f,d0,d,L,sigma,n):\n",
    "    #Pt_dBm = Transmitted power in dBm\n",
    "    #G_BD_dBi = Gain of the BD antenna in dBi\n",
    "    #G_AP_dBi = Gain of the AP antenna in dBi\n",
    "    #f = frequency of transmitted signal in Hertz\n",
    "    #d0 = reference distance of receiver from the transmitter in meters\n",
    "    #d = array of distances at which the loss needs to be calculated\n",
    "    #L = Other System Losses, for no Loss case L=1\n",
    "    #sigma = Standard deviation of log Normal distribution (in dB)\n",
    "    #n = path loss exponent\n",
    "    #Pr_dBm = Received power in dBm\n",
    "    #PL = path loss due to log normal shadowing\n",
    "    lamda_ = (3*10**8)/f #Wavelength in meters\n",
    "    K = 20*math.log10((4*np.pi*d0)/lamda_) # Path Loss factor *******- 10*n*math.log10(d0) - 10*math.log10(L) #path-loss factor\n",
    "    X = sigma*np.random.randn() #normal random variable\n",
    "    PL_dB = Gt_dBi + Gr_dBi + K + 10*n*math.log10(d/d0) + X  #PL(d) including antennas gains\n",
    "    \n",
    "    #Pr_dBm = Pt_dBm + PL #Receieved power in dBm at d meters\n",
    "    return PL_dB\n",
    "\n",
    "\n",
    "#AP-BD Channel Gain\n",
    "def APBD_ChannelGain(f):\n",
    "    Pt_dBm = 30 #1W AP transmission power 1W = 30dBm\n",
    "    Gt_dBi = 1 #Gain of the AP antenna in dBi \n",
    "    Gr_dBi = 1 #Gain of the BD antenna in dBi\n",
    "    d0 = 1 #reference distance of receiver from the transmitter in meters\n",
    "    d = 3 #distance between AP and BD #Throughput reduces significantly after 4 meters ()\n",
    "    L = 1 #Other System Losses, for no Loss case L=1\n",
    "    sigma=2 #Standard deviation of log Normal distribution (in dB)\n",
    "    n=2 # path loss exponent\n",
    "    G_dB = - logNormalShadowing(Pt_dBm,Gt_dBi,Gr_dBi,f,d0,d,L,sigma,n)\n",
    "    G = 10**(G_dB/10)\n",
    "    return G\n",
    "\n",
    "#J-AP Channel Gain\n",
    "def JAP_ChannelGain(f):\n",
    "    M = 5\n",
    "    P_J = 10 #np.random.randint(low=1,high=M,dtype = int) #choose a number between 1-4\n",
    "    Pt_dBm = 10*math.log10(P_J*1000) #selecting random jamming power between 1W - 4W\n",
    "    Gt_dBi = 1 #Gain of the J antenna in dBi \n",
    "    Gr_dBi = 1 #Gain of the AP antenna in dBi\n",
    "    d0 = 1 #reference distance of receiver from the transmitter in meters\n",
    "    d = 2 #distance between J and AP\n",
    "    L = 1 #Other System Losses, for no Loss case L=1\n",
    "    sigma=2 #Standard deviation of log Normal distribution (in dB)\n",
    "    n=2 # path loss exponent\n",
    "    G_dB = - logNormalShadowing(Pt_dBm,Gt_dBi,Gr_dBi,f,d0,d,L,sigma,n)\n",
    "    G = 10**(G_dB/10)\n",
    "    return G\n",
    "\n",
    "#J-BD Channel Gain\n",
    "def JBD_ChannelGain(f):\n",
    "    M = 5\n",
    "    P_J = 10 #np.random.randint(low=1,high=M,dtype = int) #choose a number between 1-4\n",
    "    Pt_dBm = 10*math.log10(P_J*1000) #selecting random jamming power between 1W - 4W\n",
    "    Gt_dBi = 1 #Gain of the J antenna in dBi \n",
    "    Gr_dBi = 1 #Gain of the AP antenna in dBi\n",
    "    d0 = 1 #reference distance of receiver from the transmitter in meters\n",
    "    d = 2 #distance between J and AP\n",
    "    L = 1 #Other System Losses, for no Loss case L=1\n",
    "    sigma=2 #Standard deviation of log Normal distribution (in dB)\n",
    "    n=2 # path loss exponent\n",
    "    G_dB = - logNormalShadowing(Pt_dBm,Gt_dBi,Gr_dBi,f,d0,d,L,sigma,n)\n",
    "    G = 10**(G_dB/10)\n",
    "    return G\n",
    "\n",
    "#Loopback Channel Gain (SIC)\n",
    "def loopback_Channel():\n",
    "    epsilon = 1e-10 #very small number\n",
    "    Pt_dBm = 30 #should be same as AP transmission power\n",
    "    #g_hat: feedback channel coefficient\n",
    "    #g_bar = 7e-5 #g_bar: feedback channel coefficient estimation\n",
    "    #g_tilde = 6e-5#g_tilde: estimation error\n",
    "    #g_hat = g_bar + (sqrt(epsilon))*g_tilde \n",
    "    G = 1 #E[g_tilde**2]=1\n",
    "    sigma = np.random.normal(loc=0.0, scale=1.0, size=None)\n",
    "    phi = -20 #dBm 30dBm reduction = 60dB reduction, by current techniques, it has been reported that SI can be canceled up to −81 dB in analog domain\n",
    "    combined_power_dB = (Pt_dBm+phi) + sigma**2\n",
    "    combined_power = 10**(combined_power_dB/10)\n",
    "    P = combined_power*epsilon*G\n",
    "    return P\n",
    "\n",
    "#print('X of APBD', APBD_ChannelGain(900e6)) #changing \"logNormalShadowing\" function to return X\n",
    "#print('X of JBD', JBD_ChannelGain(900e6)) #changing \"logNormalShadowing\" function to return X\n",
    "#print('X of JAP', JAP_ChannelGain(900e6)) #changing \"logNormalShadowing\" function to return X\n",
    "\n",
    "#Comment: X follows same distribution for all channels (H,JAP,JBD), but X for each are different. Also, X changes in each time slot\n"
   ]
  },
  {
   "cell_type": "markdown",
   "id": "55c7bcf5",
   "metadata": {},
   "source": [
    "### Number of steps/time slots ###"
   ]
  },
  {
   "cell_type": "code",
   "execution_count": 7,
   "id": "d238e9e2",
   "metadata": {},
   "outputs": [],
   "source": [
    "#Number of steps each episode will have. 1 step = 1 time slot\n",
    "nSteps = 400 #number of time steps, in each time step, AP chooses a new channel ## 1 time step = 1 time slot"
   ]
  },
  {
   "cell_type": "markdown",
   "id": "8a4a6f2d",
   "metadata": {},
   "source": [
    "### System Parameters ###"
   ]
  },
  {
   "cell_type": "code",
   "execution_count": 8,
   "id": "ce0fb6e5",
   "metadata": {},
   "outputs": [],
   "source": [
    "#System parameters\n",
    "N=10000 # Number of symbols to transmit\n",
    "L=16 # oversampling factor,L=Tb/Ts(Tb=bit period,Ts=sampling period) Tb (bit period) = symbol duration = (1/900MHz) = 1.1ns\n",
    "deltaf = 10e6 #frequency step\n",
    "Fc = 900e6 #900MHz #base carrier frequency\n",
    "Fs=L*Fc # sampling frequency\n",
    "#Backscatter Reflection Coefficient - when the tag wants to transmits a 1, it reflects and absorbs when it wants to transmit a 0\n",
    "mu = np.random.randint(2, size=N) # uniform random symbols from 0's and 1's\n",
    "(s_bb,t)= bpsk_mod(mu,L) # BPSK modulation(waveform) - baseband"
   ]
  },
  {
   "cell_type": "code",
   "execution_count": 75,
   "id": "72217b24",
   "metadata": {},
   "outputs": [
    {
     "name": "stdout",
     "output_type": "stream",
     "text": [
      "[0. 0. 0. ... 0. 0. 0.]\n"
     ]
    }
   ],
   "source": [
    "print(s_bb)"
   ]
  },
  {
   "cell_type": "markdown",
   "id": "c3c171f6",
   "metadata": {},
   "source": [
    "#### AP and Jammer Signal ####"
   ]
  },
  {
   "cell_type": "code",
   "execution_count": 76,
   "id": "4d31e322",
   "metadata": {},
   "outputs": [],
   "source": [
    "### numpy.random.randn => Return a sample (or samples) from the “standard normal” distribution. \n",
    "#[Recall: The standard normal distribution is a specific type of normal distribution where the mean is equal to 0 \n",
    "#and the standard deviation is equal to 1.]\n",
    "### numpy.random.normal => Draw random samples from a normal (Gaussian) distribution. \n",
    "\n",
    "x = (np.random.randn(N*L) + 1j*np.random.randn(N*L))/np.sqrt(2) #Complex Gaussian with unity power of size N*L (N: # of symbols generated)\n",
    "x_J = (np.random.randn(N*L) + 1j*np.random.randn(N*L))/np.sqrt(2) #Complex Gaussian with unity power of size N*L (N: # of symbols generated)"
   ]
  },
  {
   "cell_type": "markdown",
   "id": "dc31c84b",
   "metadata": {},
   "source": [
    "### Noise ###"
   ]
  },
  {
   "cell_type": "code",
   "execution_count": 77,
   "id": "24b70447",
   "metadata": {},
   "outputs": [],
   "source": [
    "#random.normal(loc=0.0, scale=1.0, size=None); loc => mean, scale => Standard deviation of the distribution (must be non-negative\n",
    "def complex_noise(mean, variance, size):\n",
    "    # Generate real and imaginary parts separately with normal distribution\n",
    "    real_part = np.random.normal(mean, np.sqrt(variance), size)\n",
    "    imag_part = np.random.normal(mean, np.sqrt(variance), size)\n",
    "    \n",
    "    # Combine real and imaginary parts into complex numbers\n",
    "    complex_noise = real_part + 1j * imag_part\n",
    "    \n",
    "    return complex_noise\n",
    "#complex_noise = complex_noise(0, 1, N*L) # Mean = 0, Variance = 1, Size = N*L"
   ]
  },
  {
   "cell_type": "markdown",
   "id": "50828b8b",
   "metadata": {},
   "source": [
    "#### BD Battery State ####"
   ]
  },
  {
   "cell_type": "code",
   "execution_count": 78,
   "id": "2f279c87",
   "metadata": {},
   "outputs": [],
   "source": [
    "E_B = np.zeros(nSteps)\n",
    "\n",
    "for j in range(nSteps):\n",
    "    P_T = 1 #AP transmission power: 1W\n",
    "    M = 10 #Jammer power level upper limit\n",
    "    P_J = np.random.randint(low=0,high=M,dtype = int) #choose a number between 1-4\n",
    "    τ = 1#e-3 #duration of 1 time slot = 1ms\n",
    "    ξ = 0.8 #energy harvesting efficiency\n",
    "    #levels = 5 #5 discrete levels of BD energy\n",
    "    #E_levels = np.arange(1, levels+1, 1, dtype=int)\n",
    "    U_E = ξ*(P_J + P_T)*τ#*E_levels #Unit Energy #Signal energy doesn't depend upon frequency\n",
    "    E_BC = 0.75*U_E # Let 1 Unit energy used, fixed, by tag circuit during BC operation\n",
    "    E_EH = 0.25*U_E # Let 1 Unit energy used, fixed, by tag circuit during EH operation ### E_BC > E_EH\n",
    "    E_h = U_E #Amount of energy harvested #Energy harvested is function of time and power\n",
    "    E_B [j] = mu[j]*E_BC - (1 - mu[j])*E_EH + (1 - mu[j])*E_h + 1*U_E"
   ]
  },
  {
   "cell_type": "markdown",
   "id": "981c1a16",
   "metadata": {},
   "source": [
    "### Jammer Strategy ###"
   ]
  },
  {
   "cell_type": "code",
   "execution_count": 79,
   "id": "755c34e2",
   "metadata": {},
   "outputs": [],
   "source": [
    "def Jammer(n):\n",
    "    M = 5 #Jammer power level upper limit\n",
    "    P_J = 10 # np.random.randint(low=0,high=M,dtype = int) #choose a power level between 0 to 4 W and\n",
    "    #P_J = 10*math.log10(P_J_Watt) + 30  #convert P_J to dBm\n",
    "    deltaf = 10e6 #frequency step\n",
    "    Fc = 900e6 #900MHz #base carrier frequency\n",
    "    seq = [0,1,2,3]\n",
    "    n = n+1\n",
    "    if n == len(seq):\n",
    "        n = 0\n",
    "    k_J = seq[n]\n",
    "    #print(n)\n",
    "    f_J = Fc + (k_J*deltaf)  #Jammer staying only on one channel\n",
    "    return (P_J,f_J,n)"
   ]
  },
  {
   "cell_type": "code",
   "execution_count": null,
   "id": "9fc95f01",
   "metadata": {},
   "outputs": [],
   "source": []
  },
  {
   "cell_type": "code",
   "execution_count": 80,
   "id": "46ef6731",
   "metadata": {},
   "outputs": [],
   "source": [
    "## Mean Jamming Power Received at AP ##\n",
    "def Mean_Jam_Power(P_J,f_J):\n",
    "    Gt_dBi = 1 #Gain of the J antenna in dBi \n",
    "    Gr_dBi = 1 #Gain of the AP antenna in dBi\n",
    "    lambda_ = (3*10**8)/(f_J)\n",
    "    d = 2 #distance between J and AP\n",
    "    n=2 # path loss exponent\n",
    "    PR_J = P_J*((Gt_dBi*Gr_dBi*(lambda_**2))/((d**n)*(4*np.pi)**2)) # in Watt\n",
    "    return PR_J "
   ]
  },
  {
   "cell_type": "markdown",
   "id": "31c965f7",
   "metadata": {},
   "source": [
    "### State Space, Action Space ###"
   ]
  },
  {
   "cell_type": "code",
   "execution_count": 81,
   "id": "324af433",
   "metadata": {},
   "outputs": [],
   "source": [
    "# AP - learning agent:\n",
    "#State: channel selected, {1, 2, ..., K}\n",
    "#Action: channel jumped to, {1, 2, ..., K}\n",
    "#Reward: instantaneous throughput, observed SNR, or packet delivery result {delivered: reward 1; otherwise: reward 0}. Note that a packet not delivered does not necessarily indicate a packet drop; it could be just due to the tag in harvesting mode.\n",
    "#Then AP can adopt Q-learning\n",
    "\n",
    "state_space = np.array([0,1,2,3])\n",
    "action_space = np.array([0,1,2,3])"
   ]
  },
  {
   "cell_type": "code",
   "execution_count": 82,
   "id": "7310e589",
   "metadata": {},
   "outputs": [
    {
     "name": "stdout",
     "output_type": "stream",
     "text": [
      "[[0. 0. 0. 0.]\n",
      " [0. 0. 0. 0.]\n",
      " [0. 0. 0. 0.]\n",
      " [0. 0. 0. 0.]]\n"
     ]
    }
   ],
   "source": [
    "q_table = np.zeros((len(state_space), len(action_space)))\n",
    "print(q_table)"
   ]
  },
  {
   "cell_type": "markdown",
   "id": "7f578c2c",
   "metadata": {},
   "source": [
    "### Trainning Phase"
   ]
  },
  {
   "cell_type": "code",
   "execution_count": 83,
   "id": "2b2f4715",
   "metadata": {},
   "outputs": [],
   "source": [
    "#training parameters\n",
    "#In this case, number of steps per episode = number of time slots per episode\n",
    "#No terminating condition - each episode run up to \"nSteps\" - time slots\n",
    "\n",
    "num_episodes = 200 #total no. of episodes the agent will play during training\n",
    "max_steps_per_episode = nSteps #one of the terminating condition, max no. steps in a single episode\n",
    "\n",
    "learning_rate = 0.1 #high LR focus more on new, less on old; low LR learn nothing, use prior knowledge\n",
    "discount_rate = 0.99 #high DR focus more on distant reward, low DR focus more on immediate reward\n",
    "\n",
    "#epsilon-greedy\n",
    "exploration_rate = 1\n",
    "max_exploration_rate = 1\n",
    "min_exploration_rate = 0.01\n",
    "exploration_decay_rate = 0.01"
   ]
  },
  {
   "cell_type": "code",
   "execution_count": 84,
   "id": "b548d356",
   "metadata": {},
   "outputs": [],
   "source": [
    "all_epochs = []\n",
    "all_iterations = []\n",
    "all_exploration_rate = []\n",
    "rewards_all_steps = []\n",
    "avg_reward_all_episodes = []\n",
    "#rewards_current_step = 0\n",
    "iterations = 0\n",
    "epochs = 0\n",
    "reward = np.zeros(max_steps_per_episode,dtype='float32')\n",
    "P_R_AP = np.zeros(max_steps_per_episode,dtype='float32')\n",
    "P_N = np.zeros(max_steps_per_episode,dtype='float32')\n",
    "SNR = np.zeros(max_steps_per_episode,dtype='float32')\n",
    "\n",
    "n= -1\n",
    "\n",
    "# Q-learning algorithm\n",
    "for episode in range(num_episodes):\n",
    "    current_state = 0\n",
    "    epochs += 1\n",
    "    rewards_current_step = 0\n",
    "    rewards_each_episode = []\n",
    "    #avg_reward = 0\n",
    "    for step in range(max_steps_per_episode):\n",
    "        iterations += 1\n",
    "        # Exploration-exploitation trade-off\n",
    "        p0 = random.uniform(0, 1)\n",
    "        if p0 > exploration_rate:\n",
    "            action = np.argmax(q_table[current_state][:]) #gives the index of the column with highest Q-value corresponding to row = current_state\n",
    "            #print('Exploited Action: ',action)\n",
    "        else:\n",
    "            action = random.choice(action_space)\n",
    "            #print('Random Action: ',action)\n",
    "        k = action #channel is decided based on e-greedy\n",
    "        f_k = Fc + (k*deltaf)\n",
    "        P_T = 1 #AP transmission power: 1W\n",
    "        M = 5 #Jammer power level upper limit\n",
    "        P_J = np.random.randint(low=0,high=M,dtype = int) #choose a power level between 0 to 4 W and\n",
    "        #P_J = 10*math.log10(P_J_Watt) + 30  #convert P_J to dBm\n",
    "\n",
    "        #Jammer Strategy:\n",
    "        (P_J,f_J,n) = Jammer(n)\n",
    "\n",
    "\n",
    "        P_R = ((s_bb**2)*P_T*APBD_ChannelGain(f_k)) #+ ((s_bb**2)*P_J*APBD_ChannelGain(f_k)*JBD_ChannelGain(f_J)) + P_J*JAP_ChannelGain(f_J) + loopback_Channel() + abs(complex_noise(0, 1, N*L))\n",
    "\n",
    "        P_R_AP[step] = sum(P_R)/(N*L); SNR11=15; P_R_APP=sum(P_R)/(N*L);\n",
    "        N_variance=P_R_APP/10**(SNR11/10);\n",
    "\n",
    "        unwanted_signal = 1*(f_J==f_k)*Mean_Jam_Power(P_J,f_J) + loopback_Channel() + N_variance*abs(complex_noise(0, 1, N*L))\n",
    "\n",
    "\n",
    "        P_N[step] = sum(unwanted_signal)/(N*L)\n",
    "\n",
    "        SNR[step] =  P_R_AP[step]/P_N[step]\n",
    "\n",
    "\n",
    "\n",
    "        #print(SNR)\n",
    "        reward[step] = math.log2(1+SNR[step]) #SNR in linear scale will give throughput in bps; Here, throughput (reward) is in bps/Hz\n",
    "        #print(reward)\n",
    "        #next state\n",
    "        new_state = action\n",
    "\n",
    "        # Update Q-table for Q(s,a)\n",
    "        q_table[current_state, action] = q_table[current_state, action] * (1 - learning_rate) + \\\n",
    "        learning_rate * (reward[step] + discount_rate * np.max(q_table[new_state, :]))\n",
    "        # Transition to the next state\n",
    "        current_state = new_state\n",
    "\n",
    "\n",
    "\n",
    "        # Add new reward\n",
    "\n",
    "        rewards_current_step = reward[step]\n",
    "        rewards_each_episode.append(rewards_current_step)\n",
    "        rewards_all_steps.append(rewards_current_step)\n",
    "        all_iterations.append(iterations)\n",
    "    avg_reward = sum(rewards_each_episode)/max_steps_per_episode\n",
    "    avg_reward_all_episodes.append(avg_reward)\n",
    "    # Exploration rate decay (at the end of one episode, we need to update the exploration rate)\n",
    "    exploration_rate = min_exploration_rate + \\\n",
    "    (max_exploration_rate - min_exploration_rate) * np.exp(-exploration_decay_rate*episode)\n",
    "    all_epochs.append(epochs)\n",
    "    all_exploration_rate.append(exploration_rate)\n"
   ]
  },
  {
   "cell_type": "code",
   "execution_count": 85,
   "id": "9275cc09",
   "metadata": {},
   "outputs": [
    {
     "name": "stdout",
     "output_type": "stream",
     "text": [
      "\n",
      "\n",
      "********Q-table********\n",
      "\n",
      "[[368.69726716 368.64319751 372.76389862 369.84549406]\n",
      " [369.20831733 368.48137877 369.46317851 371.58031041]\n",
      " [371.1040872  370.9268383  370.55239961 372.98414785]\n",
      " [371.13041048 371.53195058 373.03892706 371.41721552]]\n"
     ]
    }
   ],
   "source": [
    "# Print updated Q-table\n",
    "print(\"\\n\\n********Q-table********\\n\")\n",
    "print(q_table)"
   ]
  },
  {
   "cell_type": "markdown",
   "id": "b9fcc5df",
   "metadata": {},
   "source": [
    "## Plots ##"
   ]
  },
  {
   "cell_type": "code",
   "execution_count": 3,
   "id": "4541bab0",
   "metadata": {},
   "outputs": [
    {
     "ename": "NameError",
     "evalue": "name 'plt' is not defined",
     "output_type": "error",
     "traceback": [
      "\u001b[1;31m---------------------------------------------------------------------------\u001b[0m",
      "\u001b[1;31mNameError\u001b[0m                                 Traceback (most recent call last)",
      "Input \u001b[1;32mIn [3]\u001b[0m, in \u001b[0;36m<cell line: 3>\u001b[1;34m()\u001b[0m\n\u001b[0;32m      1\u001b[0m \u001b[38;5;66;03m#Plotting average throughput over 100 episodes\u001b[39;00m\n\u001b[1;32m----> 3\u001b[0m fig1, ax1 \u001b[38;5;241m=\u001b[39m \u001b[43mplt\u001b[49m\u001b[38;5;241m.\u001b[39msubplots(nrows\u001b[38;5;241m=\u001b[39m\u001b[38;5;241m1\u001b[39m,ncols \u001b[38;5;241m=\u001b[39m \u001b[38;5;241m1\u001b[39m)\n\u001b[0;32m      4\u001b[0m ax1\u001b[38;5;241m.\u001b[39msemilogy(all_epochs,avg_reward_all_episodes,\u001b[38;5;124m'\u001b[39m\u001b[38;5;124m-*\u001b[39m\u001b[38;5;124m'\u001b[39m)\n\u001b[0;32m      5\u001b[0m ax1\u001b[38;5;241m.\u001b[39mset_xlabel(\u001b[38;5;124mr\u001b[39m\u001b[38;5;124m'\u001b[39m\u001b[38;5;124mEpisode\u001b[39m\u001b[38;5;124m'\u001b[39m)\n",
      "\u001b[1;31mNameError\u001b[0m: name 'plt' is not defined"
     ]
    }
   ],
   "source": [
    "#Plotting average throughput over 100 episodes\n",
    "\n",
    "fig1, ax1 = plt.subplots(nrows=1,ncols = 1)\n",
    "ax1.semilogy(all_epochs,avg_reward_all_episodes,'-*')\n",
    "ax1.set_xlabel(r'Episode')\n",
    "ax1.set_ylabel(r'Average Throughput (bps/Hz)')\n",
    "ax1.set_title('Average Throughput over Multiple Episodes')\n",
    "plt.grid(True)\n",
    "\n",
    "#plt.savefig('avg_throughput_all_episodes_200_episodes.png')"
   ]
  },
  {
   "cell_type": "code",
   "execution_count": 99,
   "id": "da1e100a",
   "metadata": {},
   "outputs": [
    {
     "name": "stdout",
     "output_type": "stream",
     "text": [
      "Requirement already satisfied: pillow in c:\\users\\zunayeed\\anaconda3\\lib\\site-packages (9.0.1)\n",
      "Note: you may need to restart the kernel to use updated packages.\n"
     ]
    }
   ],
   "source": [
    "pip install pillow"
   ]
  },
  {
   "cell_type": "code",
   "execution_count": 9,
   "id": "732742b1",
   "metadata": {},
   "outputs": [
    {
     "ename": "NameError",
     "evalue": "name 'avg_reward_all_episodes' is not defined",
     "output_type": "error",
     "traceback": [
      "\u001b[1;31m---------------------------------------------------------------------------\u001b[0m",
      "\u001b[1;31mNameError\u001b[0m                                 Traceback (most recent call last)",
      "Input \u001b[1;32mIn [9]\u001b[0m, in \u001b[0;36m<cell line: 16>\u001b[1;34m()\u001b[0m\n\u001b[0;32m     13\u001b[0m window_size \u001b[38;5;241m=\u001b[39m \u001b[38;5;241m5\u001b[39m\n\u001b[0;32m     15\u001b[0m \u001b[38;5;66;03m# Calculate the moving average of real rewards\u001b[39;00m\n\u001b[1;32m---> 16\u001b[0m smoothed_rewards \u001b[38;5;241m=\u001b[39m moving_average(\u001b[43mavg_reward_all_episodes\u001b[49m, window_size)\n\u001b[0;32m     18\u001b[0m fig1, ax1 \u001b[38;5;241m=\u001b[39m plt\u001b[38;5;241m.\u001b[39msubplots(nrows\u001b[38;5;241m=\u001b[39m\u001b[38;5;241m1\u001b[39m,ncols \u001b[38;5;241m=\u001b[39m \u001b[38;5;241m1\u001b[39m)\n\u001b[0;32m     19\u001b[0m ax1\u001b[38;5;241m.\u001b[39msemilogy(all_epochs,avg_reward_all_episodes,\u001b[38;5;124m'\u001b[39m\u001b[38;5;124m-*\u001b[39m\u001b[38;5;124m'\u001b[39m, alpha\u001b[38;5;241m=\u001b[39m\u001b[38;5;241m0.5\u001b[39m)\n",
      "\u001b[1;31mNameError\u001b[0m: name 'avg_reward_all_episodes' is not defined"
     ]
    }
   ],
   "source": [
    "# import numpy as np\n",
    "# import matplotlib.pyplot as plt\n",
    "\n",
    "# Example data (replace this with your own data)\n",
    "# episodes = np.arange(1, 101)  # episode numbers\n",
    "# real_rewards = np.random.normal(0, 1, size=(100,))  # replace with your actual rewards\n",
    "\n",
    "# Function to calculate a simple moving average\n",
    "def moving_average(data, window_size):\n",
    "    return np.convolve(data, np.ones(window_size)/window_size, mode='valid')\n",
    "\n",
    "# Set the window size for smoothing\n",
    "window_size = 5\n",
    "\n",
    "# Calculate the moving average of real rewards\n",
    "smoothed_rewards = moving_average(avg_reward_all_episodes, window_size)\n",
    "\n",
    "fig1, ax1 = plt.subplots(nrows=1,ncols = 1)\n",
    "ax1.semilogy(all_epochs,avg_reward_all_episodes,'-*', alpha=0.5)\n",
    "ax1.set_xlabel(r'Episode')\n",
    "ax1.set_ylabel(r'Average Throughput (bps/Hz)')\n",
    "ax1.set_title('Average Throughput over Multiple Episodes')\n",
    "plt.grid(True)\n",
    "\n",
    "\n",
    "# Plot the original real rewards with reduced opacity\n",
    "# plt.plot(episodes, real_rewards, label='Real Rewards', color='blue', alpha=0.5)\n",
    "\n",
    "# Plot the smoothed rewards\n",
    "plt.plot(all_epochs[:-window_size+1], smoothed_rewards, label=f'Smoothed Rewards (Window Size={window_size})', color='blue')\n",
    "\n",
    "# Add labels and legend\n",
    "# plt.xlabel('Episode')\n",
    "# plt.ylabel('Reward')\n",
    "# plt.title('Average Reward vs Episode with Smoothed Rewards')\n",
    "# plt.legend()\n",
    "\n",
    "# Show the plot\n",
    "# plt.show()\n",
    "\n",
    "# plt.savefig('Avg_Throughput_Round_Robin_400S_200E.png')"
   ]
  },
  {
   "cell_type": "code",
   "execution_count": 91,
   "id": "da07286a",
   "metadata": {},
   "outputs": [
    {
     "data": {
      "image/png": "[encoded data removed]",
      "text/plain": [
       "<Figure size 432x288 with 1 Axes>"
      ]
     },
     "metadata": {
      "needs_background": "light"
     },
     "output_type": "display_data"
    },
    {
     "data": {
      "text/plain": [
       "<Figure size 432x288 with 0 Axes>"
      ]
     },
     "metadata": {},
     "output_type": "display_data"
    }
   ],
   "source": [
    "steps = np.arange(start = 0,stop=nSteps, step =1)\n",
    "plt.plot(steps,E_B,'o-') \n",
    "plt.xlabel('Steps')\n",
    "plt.ylabel('BD Battery State')\n",
    "plt.title('Battery Energy Status')\n",
    "plt.grid(True)\n",
    "plt.show()\n",
    "plt.savefig('test.jpg')\n",
    "\n",
    "#plt.savefig('Bat_energy_status.png')"
   ]
  },
  {
   "cell_type": "code",
   "execution_count": 89,
   "id": "7a10b13c",
   "metadata": {},
   "outputs": [
    {
     "data": {
      "image/png": "[encoded data removed]",
      "text/plain": [
       "<Figure size 432x288 with 1 Axes>"
      ]
     },
     "metadata": {
      "needs_background": "light"
     },
     "output_type": "display_data"
    },
    {
     "data": {
      "text/plain": [
       "<Figure size 432x288 with 0 Axes>"
      ]
     },
     "metadata": {},
     "output_type": "display_data"
    }
   ],
   "source": [
    "# import numpy as np\n",
    "# import matplotlib.pyplot as plt\n",
    "\n",
    "# Generate an array of random values (replace this with your actual data)\n",
    "# data = np.random.randn(400)\n",
    "\n",
    "# Plot the histogram\n",
    "plt.hist(E_B, bins=20, color = 'red')\n",
    "\n",
    "# Add labels and title\n",
    "plt.xlabel('BD Battery State')\n",
    "plt.ylabel('Percent (%)')\n",
    "plt.title('Battery Energy Status')\n",
    "\n",
    "# Show the plot\n",
    "plt.show()\n",
    "\n",
    "#plt.savefig('BD_Bat_RR_400S_200E.png')"
   ]
  },
  {
   "cell_type": "code",
   "execution_count": 39,
   "id": "bc3d3152",
   "metadata": {},
   "outputs": [
    {
     "data": {
      "image/png": "[encoded data removed]",
      "text/plain": [
       "<Figure size 432x288 with 1 Axes>"
      ]
     },
     "metadata": {
      "needs_background": "light"
     },
     "output_type": "display_data"
    }
   ],
   "source": [
    "#Plotting exploration rate over multiple episodes\n",
    "\n",
    "plt.plot(all_epochs,all_exploration_rate,'-*') \n",
    "plt.xlabel(r'Episode')\n",
    "plt.ylabel(r'Exploration Rate')\n",
    "plt.title('Exploration Rate over Multiple Episodes')\n",
    "plt.grid(True)\n",
    "\n",
    "#plt.savefig('exploration_rate.png')"
   ]
  },
  {
   "cell_type": "markdown",
   "id": "bac182ef",
   "metadata": {},
   "source": [
    "### for debugging ###"
   ]
  },
  {
   "cell_type": "code",
   "execution_count": 29,
   "id": "f7aa207b",
   "metadata": {},
   "outputs": [
    {
     "name": "stdout",
     "output_type": "stream",
     "text": [
      "AP - BD Channel Gain:  8.358798669988254e-05\n",
      "Jammer - AP Channel Gain:  0.00020574479287354197\n",
      "Jammer - BD Channel Gain:  0.00015381176000592628\n"
     ]
    }
   ],
   "source": [
    "f = 900e6\n",
    "fJ = 900e6\n",
    "\n",
    "# **** for path loss ****\n",
    "\n",
    "# P_J = 20\n",
    "# Pt_dBm = 10*math.log10(P_J*1000) #selecting random jamming power between 1W - 4W\n",
    "# Gt_dBi = 1 #Gain of the Tx antenna in dBi \n",
    "# Gr_dBi = 1 #Gain of the Rx antenna in dBi\n",
    "# d0 = 1 #reference distance of receiver from the transmitter in meters\n",
    "# d = 10 # \n",
    "# dJ = 2 #distance between Tx and Rx\n",
    "# L = 1 #Other System Losses, for no Loss case L=1\n",
    "# sigma=2 #Standard deviation of log Normal distribution (in dB)\n",
    "# n=2 #\n",
    "# APBD_path_loss_dB = logNormalShadowing(Pt_dBm,Gt_dBi,Gr_dBi,f,d0,d,L,sigma,n)\n",
    "# jammer_path_loss_dB = logNormalShadowing(Pt_dBm,Gt_dBi,Gr_dBi,fJ,d0,dJ,L,sigma,n)\n",
    "# print('APBD Path Loss in dB: ',APBD_path_loss_dB)\n",
    "# print('Jammer Path Loss in dB: ',jammer_path_loss_dB)\n",
    "\n",
    "# **** for gain ****\n",
    "\n",
    "H = APBD_ChannelGain(f)\n",
    "JBD = JBD_ChannelGain(fJ)\n",
    "JAP = JAP_ChannelGain(fJ)\n",
    "print('AP - BD Channel Gain: ',H)\n",
    "#print('AP - BD distance: ',d)\n",
    "print('Jammer - AP Channel Gain: ',JAP)\n",
    "print('Jammer - BD Channel Gain: ',JBD)\n",
    "#print('Jammer - AP/BD Distance: ',dJ)"
   ]
  },
  {
   "cell_type": "code",
   "execution_count": 30,
   "id": "ee5660db",
   "metadata": {},
   "outputs": [],
   "source": [
    "## Mean Jamming Power Received at AP ##\n",
    "def Mean_Jam_Power(P_J,f_J):\n",
    "    Gt_dBi = 1 #Gain of the J antenna in dBi \n",
    "    Gr_dBi = 1 #Gain of the AP antenna in dBi\n",
    "    lambda_ = (3*10**8)/(f_J)\n",
    "    d = 2 #distance between J and AP\n",
    "    n=2 # path loss exponent\n",
    "    PR_J = P_J*((Gt_dBi*Gr_dBi*(lambda_**2))/((d**n)*(4*np.pi)**2)) # in Watt\n",
    "    return PR_J "
   ]
  },
  {
   "cell_type": "code",
   "execution_count": 53,
   "id": "e3123170",
   "metadata": {},
   "outputs": [
    {
     "name": "stdout",
     "output_type": "stream",
     "text": [
      "Jammer channel:  900000000.0\n",
      "AP Channel:  910000000.0\n",
      "Received Power:  5.637356220925042e-10\n",
      "Noise Power:  1.0156824805814774e-09\n",
      "SNR:  0.5550313536665179\n",
      "SNR in dB:  -5.887306737385521\n",
      "Throughput:  0.63694366930969\n"
     ]
    }
   ],
   "source": [
    "n = -1 \n",
    "#Jammer Strategy: Static Jammer\n",
    "(P_J,f_J,n) = Jammer(n)\n",
    "\n",
    "k = 1 # AP channel \n",
    "f_k = Fc + (k*deltaf)\n",
    "print('Jammer channel: ',f_J)\n",
    "print('AP Channel: ',f_k)\n",
    "#f_J = 930e6\n",
    "        #reflection coefficient: s_bb = -1 for mu = 0=> non-reflecting state, s_bb = 1 for mu = 1=>reflecting state\n",
    "# unwanted_signal = Mean_Jam_Power(P_J,f_J) + loopback_Channel()*abs(x) + abs(complex_noise(0, 1, N*L))\n",
    "# y_AP_squared = ((s_bb**2)*P_T*APBD_ChannelGain(f_k)*abs(x)) + ((s_bb**2)*P_J*APBD_ChannelGain(f_k)*abs(x)*JBD_ChannelGain(f_J)*abs(x_J)) + loopback_Channel()*abs(x) + abs(complex_noise(0, 1, N*L))\n",
    "#         #print(y_AP_squared[step])\n",
    "\n",
    "P_R = ((s_bb**2)*P_T*(APBD_ChannelGain(f_k))**2) \n",
    "P_R_AP = sum(P_R)/(N*L) #Average Received Power\n",
    "Noise_variance = (P_R_AP)/(10**(20/10)) #Desired SNR assumed to be 20dB\n",
    "unwanted_signal = 1*(f_k == f_J)*P_J*JAP_ChannelGain(f_J) + loopback_Channel() + Noise_variance*abs(complex_noise(0, 1, N*L))\n",
    "### 1*(f_k == f_J)*... => 0 if f_K is not equal to f_J\n",
    "P_N = sum(unwanted_signal)/(N*L)\n",
    "SNR =  P_R_AP/P_N\n",
    "SNR_dB = 10*math.log(SNR)\n",
    "# #print(SNR)\n",
    "throughput = math.log2(1+SNR) #SNR in linear scale will give throughput in bps; Here, throughput (reward) is in bps/Hz\n",
    "# print(unwanted_signal)\n",
    "# print(y_AP_squared)\n",
    "# print('AP Channel: ',f_k)\n",
    "# print('Jammer Channel: ',f_J)\n",
    "print('Received Power: ',P_R_AP)\n",
    "print('Noise Power: ',P_N)\n",
    "print('SNR: ',SNR)\n",
    "print('SNR in dB: ',SNR_dB)\n",
    "print('Throughput: ',throughput)\n"
   ]
  },
  {
   "cell_type": "code",
   "execution_count": null,
   "id": "530e3464",
   "metadata": {},
   "outputs": [],
   "source": []
  },
  {
   "cell_type": "code",
   "execution_count": null,
   "id": "d1b9b567",
   "metadata": {},
   "outputs": [],
   "source": []
  }
 ],
 "metadata": {
  "kernelspec": {
   "display_name": "Python 3 (ipykernel)",
   "language": "python",
   "name": "python3"
  },
  "language_info": {
   "codemirror_mode": {
    "name": "ipython",
    "version": 3
   },
   "file_extension": ".py",
   "mimetype": "text/x-python",
   "name": "python",
   "nbconvert_exporter": "python",
   "pygments_lexer": "ipython3",
   "version": "3.9.12"
  }
 },
 "nbformat": 4,
 "nbformat_minor": 5
}
