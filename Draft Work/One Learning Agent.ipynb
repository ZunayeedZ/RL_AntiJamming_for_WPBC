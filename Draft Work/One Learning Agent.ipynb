{
 "cells": [
  {
   "cell_type": "code",
   "execution_count": 1,
   "id": "cba86602",
   "metadata": {},
   "outputs": [],
   "source": [
    "#Import dependencies\n",
    "import numpy as np\n",
    "import math\n",
    "import random\n",
    "import matplotlib.pyplot as plt #for plotting functions\n",
    "from scipy.special import erfc\n",
    "from numpy import sum,isrealobj,sqrt\n",
    "from numpy.random import standard_normal\n",
    "from scipy.special import erfc"
   ]
  },
  {
   "cell_type": "markdown",
   "id": "8cf5ed22",
   "metadata": {},
   "source": [
    "### Required Functions ###"
   ]
  },
  {
   "cell_type": "code",
   "execution_count": 2,
   "id": "aaa988d9",
   "metadata": {},
   "outputs": [],
   "source": [
    "#BPSK Modulation\n",
    "def bpsk_mod(mu,L):\n",
    "    from scipy.signal import upfirdn\n",
    "    s_bb = upfirdn(h=[1]*L, x=2*mu-1, up = L) # NRZ encoder; upfirdn: Upsample, FIR filter, and downsample.\n",
    "    t=np.arange(start = 0,stop = len(mu)*L) #discrete time base\n",
    "    return (s_bb,t)\n",
    "\n",
    "#BPSK demodulation        \n",
    "def bpsk_demod(r_bb,L):\n",
    "    x = np.real(r_bb) # I arm\n",
    "    x = np.convolve(x,np.ones(L)) # integrate for Tb duration (L samples)\n",
    "    x = x[L-1:-1:L] # I arm - sample at every L\n",
    "    ak_hat = (x > 0).transpose() # threshold detector\n",
    "    return ak_hat\n",
    "\n",
    "#Noise (AP to BD)\n",
    "def noise(s,SNRdB,L=1):\n",
    "    gamma = 10**(SNRdB/10) #SNR to linear scale\n",
    "    if s.ndim==1: # if s is single dimensional vector\n",
    "        P=L*sum(abs(s)**2)/len(s) #Actual power in the vector\n",
    "    else: # multi-dimensional signals like MFSK\n",
    "        P=L*sum(sum(abs(s)**2))/len(s) # if s is a matrix [MxN]\n",
    "    N0=P/gamma # Find the noise spectral density\n",
    "    if isrealobj(s): # check if input is real/complex object type\n",
    "        n = sqrt(N0/2)*standard_normal(s.shape) # computed noise\n",
    "    else:\n",
    "        n = sqrt(N0/2)*(standard_normal(s.shape)+1j*standard_normal(s.shape))\n",
    "    #r = s + n # received signal\n",
    "    return n\n",
    "\n",
    "#Noise (BD to AP)\n",
    "def awgn(s,SNRdB,L=1):\n",
    "    gamma = 10**(SNRdB/10) #SNR to linear scale\n",
    "    if s.ndim==1: # if s is single dimensional vector\n",
    "        P=L*sum(abs(s)**2)/len(s) #Actual power in the vector\n",
    "    else: # multi-dimensional signals like MFSK\n",
    "        P=L*sum(sum(abs(s)**2))/len(s) # if s is a matrix [MxN]\n",
    "    N0=P/gamma # Find the noise spectral density\n",
    "    if isrealobj(s): # check if input is real/complex object type\n",
    "        n = sqrt(N0/2)*standard_normal(s.shape) # computed noise\n",
    "    else:\n",
    "        n = sqrt(N0/2)*(standard_normal(s.shape)+1j*standard_normal(s.shape))\n",
    "    r = s + n # received signal #AWGN channel\n",
    "    return r\n",
    "\n",
    "# In theoretical analyses and simulations, for AWGN, the channel gain ℎ is often considered as a complex Gaussian random variable \n",
    "# with unity magnitude (i.e.,|ℎ∣=1) and uniformly distributed phase between 0 and 2π. This assumption simplifies \n",
    "# the analysis and is a common model used in communication theory to characterize the effects of the channel."
   ]
  },
  {
   "cell_type": "markdown",
   "id": "06ff42e0",
   "metadata": {},
   "source": [
    "### More Required Functions ###"
   ]
  },
  {
   "cell_type": "code",
   "execution_count": 3,
   "id": "f794bdeb",
   "metadata": {},
   "outputs": [],
   "source": [
    "#Pathloss Model - Log distance\n",
    "def logNormalShadowing(Pt_dBm,Gt_dBi,Gr_dBi,f,d0,d,L,sigma,n):\n",
    "    #Pt_dBm = Transmitted power in dBm\n",
    "    #G_BD_dBi = Gain of the BD antenna in dBi\n",
    "    #G_AP_dBi = Gain of the AP antenna in dBi\n",
    "    #f = frequency of transmitted signal in Hertz\n",
    "    #d0 = reference distance of receiver from the transmitter in meters\n",
    "    #d = array of distances at which the loss needs to be calculated\n",
    "    #L = Other System Losses, for no Loss case L=1\n",
    "    #sigma = Standard deviation of log Normal distribution (in dB)\n",
    "    #n = path loss exponent\n",
    "    #Pr_dBm = Received power in dBm\n",
    "    #PL = path loss due to log normal shadowing\n",
    "    lamda_ = (3*10**8)/f #Wavelength in meters\n",
    "    K = 20*math.log10(lamda_/(4*np.pi)) - 10*n*math.log10(d0) - 10*math.log10(L) #path-loss factor\n",
    "    X = sigma*np.random.randn() #normal random variable\n",
    "    PL = Gt_dBi + Gr_dBi + K -10*n*math.log10(d/d0) - X  #PL(d) including antennas gains\n",
    "    #Pr_dBm = Pt_dBm + PL #Receieved power in dBm at d meters\n",
    "    return PL\n",
    "\n",
    "\n",
    "#AP-BD Channel Gain\n",
    "def APBD_ChannelGain(f):\n",
    "    Pt_dBm = 30 #1W AP transmission power 1W = 30dBm\n",
    "    Gt_dBi = 1 #Gain of the AP antenna in dBi \n",
    "    Gr_dBi = 1 #Gain of the BD antenna in dBi\n",
    "    d0 = 1 #reference distance of receiver from the transmitter in meters\n",
    "    d = 10 #distance between AP and BD\n",
    "    L = 1 #Other System Losses, for no Loss case L=1\n",
    "    sigma=2 #Standard deviation of log Normal distribution (in dB)\n",
    "    n=2 # path loss exponent\n",
    "    PG_dBi = - logNormalShadowing(Pt_dBm,Gt_dBi,Gr_dBi,f,d0,d,L,sigma,n)\n",
    "    return PG_dBi\n",
    "\n",
    "#J-AP Channel Gain\n",
    "def JAP_ChannelGain(f):\n",
    "    M = 5\n",
    "    P_J = np.random.randint(low=1,high=M,dtype = int) #choose a number between 1-4\n",
    "    Pt_dBm = 10*math.log10(P_J*1000) #selecting random jamming power between 1W - 4W\n",
    "    Gt_dBi = 1 #Gain of the J antenna in dBi \n",
    "    Gr_dBi = 1 #Gain of the AP antenna in dBi\n",
    "    d0 = 1 #reference distance of receiver from the transmitter in meters\n",
    "    d = 100 #distance between J and AP\n",
    "    L = 1 #Other System Losses, for no Loss case L=1\n",
    "    sigma=2 #Standard deviation of log Normal distribution (in dB)\n",
    "    n=2 # path loss exponent\n",
    "    PG_dBi = - logNormalShadowing(Pt_dBm,Gt_dBi,Gr_dBi,f,d0,d,L,sigma,n)\n",
    "    return PG_dBi\n",
    "\n",
    "#J-BD Channel Gain\n",
    "def JBD_ChannelGain(f):\n",
    "    M = 5\n",
    "    P_J = np.random.randint(low=1,high=M,dtype = int) #choose a number between 1-4\n",
    "    Pt_dBm = 10*math.log10(P_J*1000) #selecting random jamming power between 1W - 4W\n",
    "    Gt_dBi = 1 #Gain of the J antenna in dBi \n",
    "    Gr_dBi = 1 #Gain of the BD antenna in dBi\n",
    "    d0 = 1 #reference distance of receiver from the transmitter in meters\n",
    "    d = 100 #distance between J and BD\n",
    "    L = 1 #Other System Losses, for no Loss case L=1\n",
    "    sigma=2 #Standard deviation of log Normal distribution (in dB)\n",
    "    n=2 # path loss exponent\n",
    "    PG_dBi = - logNormalShadowing(Pt_dBm,Gt_dBi,Gr_dBi,f,d0,d,L,sigma,n)\n",
    "    return PG_dBi\n",
    "\n",
    "#Loopback Channel Gain (SIC)\n",
    "def loopback_Channel():\n",
    "    epsilon = 1e-10 #very small number\n",
    "    Pt_dBm = 30 #should be same as AP transmission power\n",
    "    #g_hat: feedback channel coefficient\n",
    "    #g_bar = 7e-5 #g_bar: feedback channel coefficient estimation\n",
    "    #g_tilde = 6e-5#g_tilde: estimation error\n",
    "    #g_hat = g_bar + (sqrt(epsilon))*g_tilde \n",
    "    G = 1 #E[g_tilde**2]=1\n",
    "    sigma = np.random.normal(loc=0.0, scale=1.0, size=None)\n",
    "    phi = 30 #dBm 30dBm reduction = 60dB reduction, by current techniques, it has been reported that SI can be canceled up to −81 dB in analog domain\n",
    "    combined_power = (Pt_dBm*phi) + sigma**2\n",
    "    P = combined_power*epsilon*G\n",
    "    return P"
   ]
  },
  {
   "cell_type": "markdown",
   "id": "55c7bcf5",
   "metadata": {},
   "source": [
    "### Number of steps/time slots ###"
   ]
  },
  {
   "cell_type": "code",
   "execution_count": 182,
   "id": "d238e9e2",
   "metadata": {},
   "outputs": [],
   "source": [
    "#Number of steps each episode will have. 1 step = 1 time slot\n",
    "nSteps = 200 #number of time steps, in each time step, AP chooses a new channel ## 1 time step = 1 time slot\n",
    "EbN0dB = np.arange(start=-4,stop = 11,step = (11+4)/(nSteps)) # Eb/N0 range in dB for simulation\n",
    "#BER = np.zeros(len(EbN0dB)) # for BER values for each Eb/N0\n"
   ]
  },
  {
   "cell_type": "markdown",
   "id": "8a4a6f2d",
   "metadata": {},
   "source": [
    "### System Parameters ###"
   ]
  },
  {
   "cell_type": "code",
   "execution_count": 183,
   "id": "ce0fb6e5",
   "metadata": {},
   "outputs": [],
   "source": [
    "#System parameters\n",
    "N=10000 # Number of symbols to transmit\n",
    "L=16 # oversampling factor,L=Tb/Ts(Tb=bit period,Ts=sampling period) Tb (bit period) = symbol duration = (1/900MHz) = 1.1ns\n",
    "deltaf = 10e6 #frequency step\n",
    "Fc = 900e6 #900MHz #base carrier frequency\n",
    "Fs=L*Fc # sampling frequency\n",
    "#Backscatter Reflection Coefficient - when the tag wants to transmits a 1, it reflects and absorbs when it wants to transmit a 0\n",
    "mu = np.random.randint(2, size=N) # uniform random symbols from 0's and 1's\n",
    "(s_bb,t)= bpsk_mod(mu,L) # BPSK modulation(waveform) - baseband"
   ]
  },
  {
   "cell_type": "markdown",
   "id": "97a446f4",
   "metadata": {},
   "source": [
    "#### AP and Jammer Signal ####"
   ]
  },
  {
   "cell_type": "code",
   "execution_count": 184,
   "id": "19b69879",
   "metadata": {},
   "outputs": [],
   "source": [
    "x = (np.random.randn(N*L) + 1j*np.random.randn(N*L))/np.sqrt(2) #Complex Gaussian with unity power of size N*L (N: # of symbols generated)\n",
    "x_J = (np.random.randn(N*L) + 1j*np.random.randn(N*L))/np.sqrt(2) #Complex Gaussian with unity power of size N*L (N: # of symbols generated)"
   ]
  },
  {
   "cell_type": "markdown",
   "id": "31c965f7",
   "metadata": {},
   "source": [
    "### State Space, Action Space ###"
   ]
  },
  {
   "cell_type": "code",
   "execution_count": 185,
   "id": "3d5dbbcd",
   "metadata": {},
   "outputs": [],
   "source": [
    "#Define State, Action\n",
    "# State {E_B}\n",
    "\n",
    "#Jammer\n",
    "K_J = np.random.randint(low=0, high = 2, size=(nSteps), dtype = int) #should be an array randomly changing between 0 and 1 of dimension = number of time steps\n",
    "M = 5\n",
    "P_J = K_J*(np.random.randint(low=1,high=M,size=(nSteps), dtype = int)) #Absence of jammer in the channel indicates no jamming power; jamming power = 1-4 W\n",
    "#Distribute the time slot in CS+EH+BC\n",
    "r = 0.25 #duty cycle 25%\n",
    "τ = 1 #duration of each time slot is 1s\n",
    "τ_sense = 0.15\n",
    "τ_switch = np.array([0.1 if val == 1 else 0 for val in K_J])\n",
    "τ_EH = τ - (r*τ) - (τ_sense + τ_switch)\n",
    "P_T = 1 #np.random.randint(low=0, high = M)\n",
    "ξ = 0.8 #energy harvesting efficiency\n",
    "U_E = ξ*(P_J + P_T)*τ_EH #Unit Energy #Signal energy doesn't depend upon frequency\n",
    "E_BC = 0.75*U_E # Let 1 Unit energy used, fixed, by tag circuit during BC operation\n",
    "E_EH = 0.25*U_E # Let 1 Unit energy used, fixed, by tag circuit during EH operation ### E_BC > E_EH\n",
    "E_h = U_E #Amount of energy harvested #Energy harvested is function of time and power\n",
    "    \n",
    "E_B = np.zeros(nSteps)\n",
    "\n",
    "for j in range(nSteps):\n",
    "    E_B [j] = E_B [j] - mu[j]*E_BC[j] - (1 - mu[j])*E_EH[j] + (1 - mu[j])*E_h[j] + 1*U_E[j]\n",
    "\n",
    "state_space = np.array([E_B,K_J],dtype=object) #P_T doesn't contribute to channel selection decision #Channel/Frequency f_k has no effect on E_B or K_J\n",
    "#define actions\n",
    "#numeric action codes: 0 = channel 1, 1 = channel 2, 2 = channel 3, 3 = channel 4\n",
    "action_space = np.array([0,1,2,3])"
   ]
  },
  {
   "cell_type": "code",
   "execution_count": 186,
   "id": "7310e589",
   "metadata": {},
   "outputs": [
    {
     "name": "stdout",
     "output_type": "stream",
     "text": [
      "[[0. 0. 0. 0.]\n",
      " [0. 0. 0. 0.]\n",
      " [0. 0. 0. 0.]\n",
      " [0. 0. 0. 0.]]\n"
     ]
    }
   ],
   "source": [
    "q_table = np.zeros((len(action_space), len(action_space)))\n",
    "print(q_table)"
   ]
  },
  {
   "cell_type": "markdown",
   "id": "7f578c2c",
   "metadata": {},
   "source": [
    "### Trainning Phase"
   ]
  },
  {
   "cell_type": "code",
   "execution_count": 187,
   "id": "2b2f4715",
   "metadata": {},
   "outputs": [],
   "source": [
    "#training parameters\n",
    "#In this case, number of steps per episode = number of time slots per episode\n",
    "#No terminating condition - each episode run up to \"nSteps\" - time slots\n",
    "num_episodes = 100 #total no. of episodes the agent will play during training\n",
    "max_steps_per_episode = nSteps #one of the terminating condition, max no. steps in a single episode\n",
    "\n",
    "learning_rate = 0.1 #high LR focus more on new, less on old; low LR learn nothing, use prior knowledge\n",
    "discount_rate = 0.99 #high DR focus more on distant reward, low DR focus more on immediate reward\n",
    "\n",
    "#epsilon-greedy\n",
    "exploration_rate = 1\n",
    "max_exploration_rate = 1\n",
    "min_exploration_rate = 0.01\n",
    "exploration_decay_rate = 0.01"
   ]
  },
  {
   "cell_type": "code",
   "execution_count": 188,
   "id": "b548d356",
   "metadata": {},
   "outputs": [],
   "source": [
    "all_epochs = []\n",
    "all_iterations = []\n",
    "all_exploration_rate = []\n",
    "rewards_all_steps = []\n",
    "avg_reward_all_episodes = []\n",
    "rewards_current_step = 0\n",
    "iterations = 0\n",
    "epochs = 0\n",
    "reward = np.zeros(max_steps_per_episode)\n",
    "P_R_AP = np.zeros(max_steps_per_episode)\n",
    "P_N = np.zeros(max_steps_per_episode)\n",
    "SNR = np.zeros(max_steps_per_episode)\n",
    "\n",
    "# Q-learning algorithm\n",
    "for episode in range(num_episodes):\n",
    "    current_state = 0\n",
    "    epochs += 1\n",
    "    #rewards_current_step = 0\n",
    "    rewards_each_episode = []\n",
    "    #avg_reward = 0\n",
    "    for step in range(max_steps_per_episode):\n",
    "        iterations += 1\n",
    "        # Exploration-exploitation trade-off\n",
    "        p0 = random.uniform(0, 1)\n",
    "        if p0 > exploration_rate:\n",
    "            action = np.argmax(q_table[current_state][:]) \n",
    "            #print('Exploited Action: ',action)\n",
    "        else:\n",
    "            action = random.choice(action_space)\n",
    "            #print('Random Action: ',action)\n",
    "        k = action #channel is decided based on e-greedy\n",
    "        f_k = Fc + (k*deltaf)\n",
    "        P_T = 1 #AP transmission power: 1W\n",
    "        M = 5 #Jammer power level upper limit\n",
    "        P_J = np.random.randint(low=1,high=M,dtype = int) #choose a number between 1-4\n",
    "\n",
    "        #reflection coefficient: s_bb = -1 for mu = 0=> non-reflecting state, s_bb = 1 for mu = 1=>reflecting state\n",
    "        unwanted_signal = (P_J*JAP_ChannelGain(f_k)*abs(x_J)) + loopback_Channel()*abs(x) + abs(noise((x+x_J),EbN0dB[step],L))\n",
    "        y_AP = ((s_bb[step]**2)*P_T*APBD_ChannelGain(f_k)*abs(x)) + ((s_bb[step]**2)*P_J*APBD_ChannelGain(f_k)*abs(x)*JBD_ChannelGain(f_k)*abs(x_J)) + \\\n",
    "        unwanted_signal\n",
    "        P_R_AP[step] = sum(y_AP)/N\n",
    "        P_N[step] = sum(unwanted_signal)/N\n",
    "        SNR[step] =  P_R_AP[step]/P_N[step]\n",
    "        #print('AP uses channel '+str(k)+' having frequency '+str(f_k))\n",
    "        reward[step] = math.log(1+SNR[step])\n",
    "        #next state\n",
    "        new_state = action\n",
    "        # Update Q-table for Q(s,a)\n",
    "        q_table[current_state][action] = (1 - learning_rate) * q_table[current_state][action] + \\\n",
    "        learning_rate * (reward[step] + discount_rate * np.max(q_table[new_state][:]))\n",
    "        #print(q_table)\n",
    "        # Transition to the next state\n",
    "        current_state = new_state\n",
    "        # Add new reward        \n",
    "        rewards_current_step += reward[step]\n",
    "        rewards_each_episode.append(rewards_current_step)\n",
    "        rewards_all_steps.append(rewards_current_step)\n",
    "        all_iterations.append(iterations)\n",
    "    avg_reward = sum(rewards_each_episode)/max_steps_per_episode\n",
    "    avg_reward_all_episodes.append(avg_reward)\n",
    "    # Exploration rate decay (at the end of one episode, we need to update the exploration rate)\n",
    "    exploration_rate = min_exploration_rate + \\\n",
    "    (max_exploration_rate - min_exploration_rate) * np.exp(-exploration_decay_rate*episode)\n",
    "    all_epochs.append(epochs)\n",
    "    all_exploration_rate.append(exploration_rate)\n",
    "\n"
   ]
  },
  {
   "cell_type": "code",
   "execution_count": 192,
   "id": "9275cc09",
   "metadata": {},
   "outputs": [
    {
     "name": "stdout",
     "output_type": "stream",
     "text": [
      "\n",
      "\n",
      "********Q-table********\n",
      "\n",
      "[[365.32712205 371.9444576  369.35124737 369.03021386]\n",
      " [371.48336478 371.83475757 372.26414185 371.26132558]\n",
      " [371.31494804 372.25450428 371.55314857 371.34307673]\n",
      " [369.08229433 372.02875414 369.35741511 368.79090008]]\n"
     ]
    }
   ],
   "source": [
    "# Print updated Q-table\n",
    "print(\"\\n\\n********Q-table********\\n\")\n",
    "print(q_table)"
   ]
  },
  {
   "cell_type": "markdown",
   "id": "b9fcc5df",
   "metadata": {},
   "source": [
    "## Plots ##"
   ]
  },
  {
   "cell_type": "code",
   "execution_count": 193,
   "id": "95d865ea",
   "metadata": {},
   "outputs": [
    {
     "data": {
      "image/png": "[encoded data removed]",
      "text/plain": [
       "<Figure size 432x288 with 1 Axes>"
      ]
     },
     "metadata": {
      "needs_background": "light"
     },
     "output_type": "display_data"
    }
   ],
   "source": [
    "#Plotting rewards throughput over all steps\n",
    "\n",
    "fig1, ax1 = plt.subplots(nrows=1,ncols = 1)\n",
    "ax1.semilogy(all_iterations,rewards_all_steps,'-*',label='Simulated') # simulated BER\n",
    "#ax1.semilogy(EbN0dB,theoreticalBER,'r-',label='Theoretical')\n",
    "#ax1.set_yscale('log', base=2)\n",
    "ax1.set_xlabel(r'Step')\n",
    "ax1.set_ylabel(r'Throughput (bps/Hz)')\n",
    "ax1.set_title('Throughput over all steps')\n",
    "plt.grid(True)\n",
    "\n",
    "#plt.savefig('throughput_all_steps.png')"
   ]
  },
  {
   "cell_type": "code",
   "execution_count": 194,
   "id": "4541bab0",
   "metadata": {},
   "outputs": [
    {
     "data": {
      "image/png": "[encoded data removed]",
      "text/plain": [
       "<Figure size 432x288 with 1 Axes>"
      ]
     },
     "metadata": {
      "needs_background": "light"
     },
     "output_type": "display_data"
    }
   ],
   "source": [
    "#Plotting average throughput over 100 episodes\n",
    "\n",
    "fig1, ax1 = plt.subplots(nrows=1,ncols = 1)\n",
    "ax1.semilogy(all_epochs,avg_reward_all_episodes,'-*',label='Simulated') # simulated BER\n",
    "#ax1.semilogy(EbN0dB,theoreticalBER,'r-',label='Theoretical')\n",
    "#ax1.set_yscale('log', base=2)\n",
    "ax1.set_xlabel(r'Episode')\n",
    "ax1.set_ylabel(r'Average Throughput (bps/Hz)')\n",
    "ax1.set_title('Average Throughput over Multiple Episodes')\n",
    "plt.grid(True)\n",
    "\n",
    "plt.savefig('avg_throughput_all_episodes.png')"
   ]
  },
  {
   "cell_type": "code",
   "execution_count": 202,
   "id": "bc3d3152",
   "metadata": {},
   "outputs": [
    {
     "data": {
      "image/png": "[encoded data removed]",
      "text/plain": [
       "<Figure size 432x288 with 1 Axes>"
      ]
     },
     "metadata": {
      "needs_background": "light"
     },
     "output_type": "display_data"
    }
   ],
   "source": [
    "#Plotting exploration rate over 100 episodes\n",
    "\n",
    "plt.plot(all_epochs,all_exploration_rate,'->') \n",
    "plt.xlabel(r'Episode')\n",
    "plt.ylabel(r'Exploration Rate')\n",
    "plt.title('Exploration Rate over Multiple Episodes')\n",
    "plt.grid(True)\n",
    "\n",
    "#plt.savefig('exploration_rate.png')"
   ]
  }
 ],
 "metadata": {
  "kernelspec": {
   "display_name": "Python 3 (ipykernel)",
   "language": "python",
   "name": "python3"
  },
  "language_info": {
   "codemirror_mode": {
    "name": "ipython",
    "version": 3
   },
   "file_extension": ".py",
   "mimetype": "text/x-python",
   "name": "python",
   "nbconvert_exporter": "python",
   "pygments_lexer": "ipython3",
   "version": "3.9.12"
  }
 },
 "nbformat": 4,
 "nbformat_minor": 5
}
