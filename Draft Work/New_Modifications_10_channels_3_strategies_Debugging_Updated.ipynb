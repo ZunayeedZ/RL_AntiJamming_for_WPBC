{
 "cells": [
  {
   "cell_type": "code",
   "execution_count": 52,
   "id": "4bd02ff4",
   "metadata": {
    "id": "4bd02ff4"
   },
   "outputs": [],
   "source": [
    "#Import dependencies\n",
    "import numpy as np\n",
    "import math\n",
    "import random\n",
    "import matplotlib.pyplot as plt #for plotting functions\n",
    "from scipy.special import erfc\n",
    "from numpy import sum,isrealobj,sqrt\n",
    "from numpy.random import standard_normal\n",
    "from scipy.special import erfc"
   ]
  },
  {
   "cell_type": "markdown",
   "id": "8cf5ed22",
   "metadata": {
    "id": "8cf5ed22"
   },
   "source": [
    "### Required Functions ###"
   ]
  },
  {
   "cell_type": "code",
   "execution_count": 53,
   "id": "4306b740",
   "metadata": {
    "id": "4306b740"
   },
   "outputs": [],
   "source": [
    "### Generating Random Binary Signal\n",
    "\n",
    "def binary(N,sym_len):\n",
    "    rand_n = np.random.rand(N) #generate N random numbers between 0 and 1\n",
    "    rand_n[np.where(rand_n >= 0.5)] = 1\n",
    "    rand_n[np.where(rand_n <= 0.5)] = 0\n",
    "    plt.stem(rand_n)\n",
    "    #generate signal\n",
    "    sig = np.zeros(N*sym_len) #N*sym_len = total duration of 16 symbols or total number of samples in these 16 symbols\n",
    "\n",
    "    id_n = np.where(rand_n == 1) #storing index numbers of rand_n where rand_n = 1\n",
    "\n",
    "    for i in id_n[0]:  #id_n results in a numpy array in the form of a tuple, so we consider index = 0\n",
    "        temp = int(i*sym_len)\n",
    "        sig[temp:temp+sym_len] = 1 #making the signal from temp to temp+sym_len as\n",
    "        # 1 i.e., say symbol length = 3, and binary bits are 1 0 1 1 then signal\n",
    "        # will be 111 000 111 111\n",
    "    return sig"
   ]
  },
  {
   "cell_type": "code",
   "execution_count": 54,
   "id": "529bc12e",
   "metadata": {
    "colab": {
     "base_uri": "https://localhost:8080/",
     "height": 573
    },
    "id": "529bc12e",
    "outputId": "988a200a-d6f4-4cca-b288-82cd24a15cdd"
   },
   "outputs": [
    {
     "name": "stderr",
     "output_type": "stream",
     "text": [
      "C:\\Users\\Zunayeed\\Anaconda3\\lib\\site-packages\\matplotlib\\cbook\\__init__.py:1298: ComplexWarning: Casting complex values to real discards the imaginary part\n",
      "  return np.asarray(x, float)\n"
     ]
    },
    {
     "name": "stdout",
     "output_type": "stream",
     "text": [
      "Shape of ASK:  (160000,)\n"
     ]
    },
    {
     "data": {
      "image/png": "[encoded data removed]",
      "text/plain": [
       "<Figure size 432x288 with 2 Axes>"
      ]
     },
     "metadata": {
      "needs_background": "light"
     },
     "output_type": "display_data"
    }
   ],
   "source": [
    "##### ASK Modulation (OOK)\n",
    "\n",
    "def ask_mod():\n",
    "    #carrier information\n",
    "    L = 16\n",
    "    Fc = 10000 #900e6 #carrier frequency\n",
    "    Fs = L*Fc #sampling frequency\n",
    "    T = 1 #simulation time\n",
    "    t = np.arange(0,T,T/Fs)\n",
    "    #Generate random binary signal\n",
    "    #import generate_random_binary_signal as ran_bin\n",
    "    Tb = 0.1 #bit duration\n",
    "    sym_len = int(Tb*Fs)                   #number of samples to represent 1 symbol or symbol duration\n",
    "    N = int(np.floor(np.size(t)/sym_len))  #number of symbols = total time length/number of samples\n",
    "\n",
    "    sig =  binary(N,sym_len)\n",
    "\n",
    "    #plot\n",
    "    plt.subplot(2,1,1)\n",
    "    plt.plot(t,sig);plt.xlabel('Time(s)');plt.ylabel('Amplitude')\n",
    "    plt.title('Random Binary Signal')\n",
    "    plt.grid()\n",
    "\n",
    "    x = (np.random.randn(N*sym_len) + 1j*np.random.randn(N*sym_len))/np.sqrt(2); #np.sin(2*pi*Fc*t); ### CARRIER SIGNAL\n",
    "    #plot ASK\n",
    "    ask = x*sig;\n",
    "\n",
    "    plt.subplot(2,1,2)\n",
    "    plt.plot(t,ask);plt.xlabel('Time(s)');plt.ylabel('Amplitude')\n",
    "    plt.title('Amplitude Shift Keying')\n",
    "    plt.grid()\n",
    "    plt.tight_layout()\n",
    "\n",
    "    return ask,t\n",
    "\n",
    "#Modulation\n",
    "(ask,t) = ask_mod()\n",
    "print('Shape of ASK: ',np.shape(ask))"
   ]
  },
  {
   "cell_type": "code",
   "execution_count": 55,
   "id": "de61bc37",
   "metadata": {
    "colab": {
     "base_uri": "https://localhost:8080/"
    },
    "id": "de61bc37",
    "outputId": "493809f7-468a-4414-bcd4-414657dce9a0"
   },
   "outputs": [
    {
     "name": "stdout",
     "output_type": "stream",
     "text": [
      "[0.17560267 0.40565376 0.26403074 ... 0.2970462  0.3573875  0.66266418]\n"
     ]
    }
   ],
   "source": [
    "# import sys\n",
    "# np.set_printoptions(threshold=sys.maxsize)\n",
    "print(abs(ask))"
   ]
  },
  {
   "cell_type": "code",
   "execution_count": 56,
   "id": "3d25c10c",
   "metadata": {
    "id": "3d25c10c"
   },
   "outputs": [],
   "source": [
    "#Pathloss Model - Log distance\n",
    "def logNormalShadowing(Pt_dBm,Gt_dBi,Gr_dBi,f,d0,d,L,sigma,n):\n",
    "    #Pt_dBm = Transmitted power in dBm\n",
    "    #G_BD_dBi = Gain of the BD antenna in dBi\n",
    "    #G_AP_dBi = Gain of the AP antenna in dBi\n",
    "    #f = frequency of transmitted signal in Hertz\n",
    "    #d0 = reference distance of receiver from the transmitter in meters\n",
    "    #d = array of distances at which the loss needs to be calculated\n",
    "    #L = Other System Losses, for no Loss case L=1\n",
    "    #sigma = Standard deviation of log Normal distribution (in dB)\n",
    "    #n = path loss exponent\n",
    "    #Pr_dBm = Received power in dBm\n",
    "    #PL = path loss due to log normal shadowing\n",
    "    lamda_ = (3*10**8)/f #Wavelength in meters\n",
    "    K = 20*math.log10((4*np.pi*d0)/lamda_) # Path Loss factor *******- 10*n*math.log10(d0) - 10*math.log10(L) #path-loss factor\n",
    "    X = sigma*np.random.randn() #normal random variable\n",
    "    PL_dB = Gt_dBi + Gr_dBi + K + 10*n*math.log10(d/d0) + X  #PL(d) including antennas gains\n",
    "\n",
    "    #Pr_dBm = Pt_dBm + PL #Receieved power in dBm at d meters\n",
    "    return PL_dB\n",
    "\n",
    "\n",
    "#AP-BD Channel Gain\n",
    "def APBD_ChannelGain(f):\n",
    "    Pt_dBm = 30 #1W AP transmission power 1W = 30dBm\n",
    "    Gt_dBi = 1 #Gain of the AP antenna in dBi\n",
    "    Gr_dBi = 1 #Gain of the BD antenna in dBi\n",
    "    d0 = 1 #reference distance of receiver from the transmitter in meters\n",
    "    d = 3 #distance between AP and BD #Throughput reduces significantly after 4 meters ()\n",
    "    L = 1 #Other System Losses, for no Loss case L=1\n",
    "    sigma=2 #Standard deviation of log Normal distribution (in dB)\n",
    "    n=2 # path loss exponent\n",
    "    G_dB = - logNormalShadowing(Pt_dBm,Gt_dBi,Gr_dBi,f,d0,d,L,sigma,n)\n",
    "    G = 10**(G_dB/10)\n",
    "    return G\n",
    "\n",
    "#J-AP Channel Gain\n",
    "def JAP_ChannelGain(f):\n",
    "    M = 5\n",
    "    P_J = 10 #np.random.randint(low=1,high=M,dtype = int) #choose a number between 1-4\n",
    "    Pt_dBm = 10*math.log10(P_J*1000) #selecting random jamming power between 1W - 4W\n",
    "    Gt_dBi = 1 #Gain of the J antenna in dBi\n",
    "    Gr_dBi = 1 #Gain of the AP antenna in dBi\n",
    "    d0 = 1 #reference distance of receiver from the transmitter in meters\n",
    "    d = 2 #distance between J and AP\n",
    "    L = 1 #Other System Losses, for no Loss case L=1\n",
    "    sigma=2 #Standard deviation of log Normal distribution (in dB)\n",
    "    n=2 # path loss exponent\n",
    "    G_dB = - logNormalShadowing(Pt_dBm,Gt_dBi,Gr_dBi,f,d0,d,L,sigma,n)\n",
    "    G = 10**(G_dB/10)\n",
    "    return G\n",
    "\n",
    "#J-BD Channel Gain\n",
    "def JBD_ChannelGain(f):\n",
    "    M = 5\n",
    "    P_J = 10 #np.random.randint(low=1,high=M,dtype = int) #choose a number between 1-4\n",
    "    Pt_dBm = 10*math.log10(P_J*1000) #selecting random jamming power between 1W - 4W\n",
    "    Gt_dBi = 1 #Gain of the J antenna in dBi\n",
    "    Gr_dBi = 1 #Gain of the AP antenna in dBi\n",
    "    d0 = 1 #reference distance of receiver from the transmitter in meters\n",
    "    d = 2 #distance between J and AP\n",
    "    L = 1 #Other System Losses, for no Loss case L=1\n",
    "    sigma=2 #Standard deviation of log Normal distribution (in dB)\n",
    "    n=2 # path loss exponent\n",
    "    G_dB = - logNormalShadowing(Pt_dBm,Gt_dBi,Gr_dBi,f,d0,d,L,sigma,n)\n",
    "    G = 10**(G_dB/10)\n",
    "    return G\n",
    "\n",
    "#Loopback Channel Gain (SIC)\n",
    "def loopback_Channel():\n",
    "    epsilon = 1e-10 #very small number\n",
    "    Pt_dBm = 30 #should be same as AP transmission power\n",
    "    #g_hat: feedback channel coefficient\n",
    "    #g_bar = 7e-5 #g_bar: feedback channel coefficient estimation\n",
    "    #g_tilde = 6e-5#g_tilde: estimation error\n",
    "    #g_hat = g_bar + (sqrt(epsilon))*g_tilde\n",
    "    G = 1 #E[g_tilde**2]=1\n",
    "    sigma = np.random.normal(loc=0.0, scale=1.0, size=None)\n",
    "    phi = -20 #dBm 30dBm reduction = 60dB reduction, by current techniques, it has been reported that SI can be canceled up to −81 dB in analog domain\n",
    "    combined_power_dB = (Pt_dBm+phi) + sigma**2\n",
    "    combined_power = 10**(combined_power_dB/10)\n",
    "    P = combined_power*epsilon*G\n",
    "    return P"
   ]
  },
  {
   "cell_type": "markdown",
   "id": "8a4a6f2d",
   "metadata": {
    "id": "8a4a6f2d"
   },
   "source": [
    "### System Parameters ###"
   ]
  },
  {
   "cell_type": "code",
   "execution_count": 57,
   "id": "ce0fb6e5",
   "metadata": {
    "id": "ce0fb6e5"
   },
   "outputs": [],
   "source": [
    "#System parameters\n",
    "N=10000 # Number of symbols to transmit\n",
    "L=16 # oversampling factor,L=Tb/Ts(Tb=bit period,Ts=sampling period) Tb (bit period) = symbol duration = (1/900MHz) = 1.1ns\n",
    "deltaf = 10e6 #frequency step\n",
    "Fc = 900e6 #900MHz #base carrier frequency\n",
    "Fs=L*Fc # sampling frequency\n",
    "#Backscatter Reflection Coefficient - when the tag wants to transmits a 1, it reflects and absorbs when it wants to transmit a 0\n",
    "# mu = np.random.randint(2, size=N) # uniform random symbols from 0's and 1's\n",
    "# (s_bb,t)= bpsk_mod(mu,L) # BPSK modulation(waveform) - baseband"
   ]
  },
  {
   "cell_type": "markdown",
   "id": "dc31c84b",
   "metadata": {
    "id": "dc31c84b"
   },
   "source": [
    "### Noise ###"
   ]
  },
  {
   "cell_type": "code",
   "execution_count": 58,
   "id": "24b70447",
   "metadata": {
    "id": "24b70447"
   },
   "outputs": [],
   "source": [
    "#random.normal(loc=0.0, scale=1.0, size=None); loc => mean, scale => Standard deviation of the distribution (must be non-negative\n",
    "def complex_noise(mean, variance, size):\n",
    "    # Generate real and imaginary parts separately with normal distribution\n",
    "    real_part = np.random.normal(mean, np.sqrt(variance), size)\n",
    "    imag_part = np.random.normal(mean, np.sqrt(variance), size)\n",
    "    # Combine real and imaginary parts into complex numbers\n",
    "    complex_noise = real_part + 1j * imag_part\n",
    "    return complex_noise"
   ]
  },
  {
   "cell_type": "code",
   "execution_count": 59,
   "id": "e916700d",
   "metadata": {
    "id": "e916700d"
   },
   "outputs": [],
   "source": [
    "### Difference Noise Floor for each channel\n",
    "target_SNR = []\n",
    "def desired_SNR(k):\n",
    "    target_SNR = [5,10,15,20,25,30,35,40,45,50]\n",
    "    return target_SNR[k]\n",
    "\n",
    "# k = 0\n",
    "# SNR = desired_SNR(k)\n",
    "# print(SNR)"
   ]
  },
  {
   "cell_type": "markdown",
   "id": "981c1a16",
   "metadata": {
    "id": "981c1a16"
   },
   "source": [
    "### Jammer Strategy ###"
   ]
  },
  {
   "cell_type": "code",
   "execution_count": 60,
   "id": "755c34e2",
   "metadata": {
    "id": "755c34e2"
   },
   "outputs": [],
   "source": [
    "def Jammer_RR(n,K_ch):\n",
    "#     M = 5 #Jammer power level upper limit\n",
    "    P_J = 10 # np.random.randint(low=0,high=M,dtype = int) #choose a power level between 0 to 4 W and\n",
    "    #P_J = 10*math.log10(P_J_Watt) + 30  #convert P_J to dBm\n",
    "    deltaf = 10e6 #frequency step\n",
    "    Fc = 900e6 #900MHz #base carrier frequency\n",
    "    seq = np.arange(0,K_ch,dtype=int)\n",
    "    n = n+1\n",
    "    if n == len(seq):\n",
    "        n = 0\n",
    "    k_J = seq[n]\n",
    "    f_J = Fc + (k_J*deltaf)  #Jammer follows round robin\n",
    "    return (P_J,f_J,n)\n",
    "\n",
    "# Jammer Signal\n",
    "x_J = (np.random.randn(N*L) + 1j*np.random.randn(N*L))/np.sqrt(2) #Complex Gaussian with unity power of size N*L (N: # of symbols generated)"
   ]
  },
  {
   "cell_type": "code",
   "execution_count": 61,
   "id": "2169f373",
   "metadata": {
    "id": "2169f373"
   },
   "outputs": [],
   "source": [
    "def Jammer_Random(K_ch):\n",
    "#     M = 5 #Jammer power level upper limit\n",
    "    P_J = 10 # np.random.randint(low=0,high=M,dtype = int) #choose a power level between 0 to 4 W and\n",
    "    #P_J = 10*math.log10(P_J_Watt) + 30  #convert P_J to dBm\n",
    "    deltaf = 10e6 #frequency step\n",
    "    Fc = 900e6 #900MHz #base carrier frequency\n",
    "    k_J = np.random.randint(low=0,high=K_ch,dtype = int) #seq[n]\n",
    "    f_J = Fc + (k_J*deltaf) # Static Jammer, Jammer is at channel 0\n",
    "    return (P_J,f_J)"
   ]
  },
  {
   "cell_type": "code",
   "execution_count": 62,
   "id": "e05ed0c9",
   "metadata": {
    "id": "e05ed0c9"
   },
   "outputs": [],
   "source": [
    "def Jammer_Static(K_ch):\n",
    "#     M = 5 #Jammer power level upper limit\n",
    "    P_J = 10 # np.random.randint(low=0,high=M,dtype = int) #choose a power level between 0 to 4 W and\n",
    "    #P_J = 10*math.log10(P_J_Watt) + 30  #convert P_J to dBm\n",
    "    deltaf = 10e6 #frequency step\n",
    "    Fc = 900e6 #900MHz #base carrier frequency\n",
    "    k_J = 0\n",
    "    f_J = Fc + (k_J*deltaf)  #Jammer follows round robin\n",
    "    return (P_J,f_J)"
   ]
  },
  {
   "cell_type": "code",
   "execution_count": 63,
   "id": "d87190f7",
   "metadata": {
    "id": "d87190f7"
   },
   "outputs": [],
   "source": [
    "## Mean Jamming Power Received at AP ##\n",
    "def Mean_Jam_Power(P_J,f_J):\n",
    "    Gt_dBi = 1 #Gain of the J antenna in dBi\n",
    "    Gr_dBi = 1 #Gain of the AP antenna in dBi\n",
    "    lambda_ = (3*10**8)/(f_J)\n",
    "    d = 2 #distance between J and AP\n",
    "    n=2 # path loss exponent\n",
    "    PR_J = P_J*((Gt_dBi*Gr_dBi*(lambda_**2))/((d**n)*(4*np.pi)**2)) # in Watt\n",
    "    return PR_J"
   ]
  },
  {
   "cell_type": "markdown",
   "id": "31c965f7",
   "metadata": {
    "id": "31c965f7"
   },
   "source": [
    "### State Space, Action Space ###"
   ]
  },
  {
   "cell_type": "code",
   "execution_count": 64,
   "id": "4e5444b9",
   "metadata": {
    "id": "4e5444b9"
   },
   "outputs": [],
   "source": [
    "#State:\n",
    "#AP can choose K channels, AP_state = [0,1,....,K]\n",
    "#Jammer can be present or absent in the current channel, jammer_state = [0,1]\n",
    "K_ch = 4 #enter number of channels\n",
    "AP_state = np.arange(0,K_ch,dtype=int)\n",
    "# jammer_state = [1,0] #1 => jammer present, 0=> jammer absent\n",
    "#Action:\n",
    "#Action space is denoted by AP jumping into a channel, action_space = [0,1,...,K]\n",
    "action_space = np.arange(0,K_ch,dtype=int)"
   ]
  },
  {
   "cell_type": "code",
   "execution_count": 65,
   "id": "718ac8f0",
   "metadata": {
    "colab": {
     "base_uri": "https://localhost:8080/"
    },
    "id": "718ac8f0",
    "outputId": "4f296afd-ecba-4b92-ff64-9bcf56fabdda"
   },
   "outputs": [
    {
     "name": "stdout",
     "output_type": "stream",
     "text": [
      "State Space: \n",
      " [0 1 2 3]\n",
      "\n",
      "Q-table: \n",
      " [[0. 0. 0. 0.]\n",
      " [0. 0. 0. 0.]\n",
      " [0. 0. 0. 0.]\n",
      " [0. 0. 0. 0.]]\n",
      "\n",
      "Shape of Q-table:  (4, 4)\n"
     ]
    }
   ],
   "source": [
    "#State Space\n",
    "state_space = AP_state\n",
    "print('State Space: \\n',state_space)\n",
    "q_table = np.zeros((len(state_space),len(action_space)))\n",
    "print('\\nQ-table: \\n',q_table)\n",
    "print('\\nShape of Q-table: ',np.shape(q_table))"
   ]
  },
  {
   "cell_type": "markdown",
   "id": "7f578c2c",
   "metadata": {
    "id": "7f578c2c"
   },
   "source": [
    "## Trainning Phase"
   ]
  },
  {
   "cell_type": "markdown",
   "id": "55c7bcf5",
   "metadata": {
    "id": "55c7bcf5"
   },
   "source": [
    "#### Number of steps/time slots ###"
   ]
  },
  {
   "cell_type": "code",
   "execution_count": 66,
   "id": "d238e9e2",
   "metadata": {
    "id": "d238e9e2"
   },
   "outputs": [],
   "source": [
    "#Number of steps each episode will have. 1 step = 1 time slot\n",
    "nSteps = K_ch #number of time steps, in each time step, AP chooses a new channel ## 1 time step = 1 time slot"
   ]
  },
  {
   "cell_type": "code",
   "execution_count": 67,
   "id": "2b2f4715",
   "metadata": {
    "id": "2b2f4715"
   },
   "outputs": [],
   "source": [
    "#training parameters\n",
    "#In this case, number of steps per episode = number of time slots per episode\n",
    "#No terminating condition - each episode run up to \"nSteps\" - time slots\n",
    "\n",
    "num_episodes = 1500 #total no. of episodes the agent will play during training\n",
    "max_steps_per_episode = nSteps #one of the terminating condition, max no. steps in a single episode\n",
    "\n",
    "learning_rate = 0.01 #high LR focus more on new, less on old; low LR learn nothing, use prior knowledge....my observation => low LR better converge\n",
    "discount_rate = 0.95 #high DR focus more on distant reward, low DR focus more on immediate reward\n",
    "\n",
    "#epsilon-greedy\n",
    "exploration_rate = 1\n",
    "max_exploration_rate = 1\n",
    "min_exploration_rate = 0.00001\n",
    "exploration_decay_rate = 0.01 #0.01 low decay means more exploration, higher decay means more exploitation"
   ]
  },
  {
   "cell_type": "markdown",
   "id": "0c70b1a5",
   "metadata": {
    "id": "0c70b1a5"
   },
   "source": [
    "#### Round Robin Jammer ####"
   ]
  },
  {
   "cell_type": "code",
   "execution_count": 68,
   "id": "d33303b5",
   "metadata": {
    "id": "d33303b5"
   },
   "outputs": [],
   "source": [
    "all_epochs = []\n",
    "all_iterations = []\n",
    "all_exploration_rate = []\n",
    "rewards_all_steps = []\n",
    "avg_reward_all_episodes = []\n",
    "#rewards_current_step = 0\n",
    "iterations = 0\n",
    "epochs = 0\n",
    "reward = np.zeros(max_steps_per_episode,dtype='float32')\n",
    "P_R_AP = np.zeros(max_steps_per_episode,dtype='float32')\n",
    "P_N = np.zeros(max_steps_per_episode,dtype='float32')\n",
    "SNR = np.zeros(max_steps_per_episode,dtype='float32')\n",
    "E_B = np.zeros(max_steps_per_episode,dtype='float32')\n",
    "\n",
    "n= -1\n",
    "# current_state = 0\n",
    "action = np.random.randint(0,K_ch,dtype=int)\n",
    "current_state = action;\n",
    "# Q-learning algorithm\n",
    "Action_RR = np.arange(0,K_ch,dtype=int)\n",
    "k_RR = -1\n",
    "for episode in range(num_episodes):\n",
    "    epochs += 1\n",
    "    rewards_current_step = 0\n",
    "    rewards_each_episode = []\n",
    "    #avg_reward = 0\n",
    "    for step in range(K_ch):\n",
    "        iterations += 1\n",
    "#         print(iterations)\n",
    "#         print('Current_state: ',current_state)\n",
    "        # Exploration-exploitation trade-off\n",
    "        # -----Round Robin Action---------------\n",
    "        nq = step + 1\n",
    "        if nq == K_ch:\n",
    "            nq = 0\n",
    "        \n",
    "        #--------------------------------------------------------\n",
    "        kk = Action_RR[action] #channel is decided based on e-greedy\n",
    "        f_k = Fc + (kk*deltaf)\n",
    "        P_T = 1 #AP transmission power: 1W\n",
    "\n",
    "        #Jammer Strategy:\n",
    "        (P_J,f_J,n) = Jammer_RR(n,K_ch)\n",
    "        k_J = n\n",
    "        f_J = Fc + (k_J*deltaf)  #Jammer follows round robin\n",
    "\n",
    "#         print('AP Channel: ',f_k)\n",
    "#         print('Jammer Channel: ',f_J)\n",
    "\n",
    "        P_R = (((abs(ask))**2)*P_T*(APBD_ChannelGain(f_k)**2)) #+ ((s_bb**2)*P_J*APBD_ChannelGain(f_k)*JBD_ChannelGain(f_J)) + P_J*JAP_ChannelGain(f_J) + loopback_Channel() + abs(complex_noise(0, 1, N*L))\n",
    "\n",
    "        P_R_AP[step] = sum(P_R)/(N*L);\n",
    "\n",
    "#         Target_SNR = 15; #to calculate noise floor\n",
    "        Target_SNR = 20 # fixed noise floor, SNR = 20dB, #desired_SNR(k) #to get different noise floor for different channel\n",
    "        P_R_AP_tot = sum(P_R)/(N*L);\n",
    "        N_variance = P_R_AP_tot/10**(Target_SNR/10);\n",
    "\n",
    "        unwanted_signal = 1*(n==kk)*Mean_Jam_Power(P_J,f_J) + loopback_Channel() + N_variance*abs(complex_noise(0, 1, N*L))\n",
    "\n",
    "        P_N[step] = sum(unwanted_signal)/(N*L)\n",
    "\n",
    "        SNR[step] =  P_R_AP[step]/P_N[step]\n",
    "\n",
    "        #print(SNR)\n",
    "        reward[step] = math.log2(1+SNR[step]) #SNR in linear scale will give throughput in bps; Here, throughput (reward) is in bps/Hz\n",
    "        #print(reward)\n",
    "        #next state\n",
    "        Pre_action = action\n",
    "        p0 = random.uniform(0, 1)\n",
    "        if p0 > exploration_rate:\n",
    "            action = np.argmax(q_table[:,nq]) #gives the index of the column with highest Q-value corresponding to row = current_state\n",
    "#             print('Exploited Action: ',action)\n",
    "        else:\n",
    "            action = random.choice(action_space)\n",
    "#             print('Random Action: ',action)\n",
    "#         if((action % 2 ==0)and(f_J == f_k)):\n",
    "#             new_state = (2*action)\n",
    "#         elif((action % 2 ==0)and(f_J != f_k)):\n",
    "#             new_state = (2*action) + 1\n",
    "#         elif((action % 2 !=0)and(f_J == f_k)):\n",
    "#             new_state = (2*action)\n",
    "#         else:\n",
    "#             new_state = (2*action) + 1\n",
    "#         if(f_J == f_k):\n",
    "#             new_state = 2*action\n",
    "#         else:\n",
    "#             new_state = 2*action + 1\n",
    "        new_state = action\n",
    "\n",
    "        # Update Q-table for Q(s,a)\n",
    "        q_table[current_state, step] = (q_table[current_state, step]*(1 - learning_rate)) + \\\n",
    "        learning_rate*(reward[step] + (discount_rate*q_table[new_state, nq]))\n",
    "#         print(q_table)\n",
    "        # Transition to the next state\n",
    "        current_state = new_state\n",
    "\n",
    "#         print('action: ',action)\n",
    "#         print('new_state: ',new_state)\n",
    "\n",
    "        τ = 1 #e-3 #duration of 1 time slot = 1ms\n",
    "        ξ = 0.8 #energy harvesting efficiency\n",
    "        #levels = 5 #5 discrete levels of BD energy\n",
    "        #E_levels = np.arange(1, levels+1, 1, dtype=int)\n",
    "#         n=-1\n",
    "#         (P_J,f_J,n) = Jammer(n,K_ch)\n",
    "        PR_J = Mean_Jam_Power(P_J,f_J)\n",
    "        U_E = ξ*(PR_J*JBD_ChannelGain(f_J)**2 + P_T*APBD_ChannelGain(f_k)**2)*τ\n",
    "        E_BC = 0.75*U_E # Let 1 Unit energy used, fixed, by tag circuit during BC operation\n",
    "        E_EH = 0.25*U_E # Let 1 Unit energy used, fixed, by tag circuit during EH operation ### E_BC > E_EH\n",
    "        E_h = U_E #Amount of energy harvested #Energy harvested is function of time and power\n",
    "        E_B [step] = (abs(ask[step]))*E_BC - (1 - (abs(ask[step])))*E_EH + (1 - (abs(ask[step])))*E_h + 1*U_E\n",
    "\n",
    "        # Add new reward\n",
    "        exploration_rate = min_exploration_rate + \\\n",
    "         (max_exploration_rate - min_exploration_rate) * np.exp(-exploration_decay_rate*episode)\n",
    "\n",
    "        rewards_current_step = reward[step]\n",
    "        rewards_each_episode.append(rewards_current_step)\n",
    "        rewards_all_steps.append(rewards_current_step)\n",
    "        all_iterations.append(iterations)\n",
    "\n",
    "    avg_reward = sum(rewards_each_episode)/max_steps_per_episode\n",
    "    avg_reward_all_episodes.append(avg_reward)\n",
    "    # Exploration rate decay (at the end of one episode, we need to update the exploration rate)\n",
    "    all_epochs.append(epochs)\n",
    "    all_exploration_rate.append(exploration_rate)\n"
   ]
  },
  {
   "cell_type": "code",
   "execution_count": 69,
   "id": "PpzeaEn_wGD8",
   "metadata": {
    "colab": {
     "base_uri": "https://localhost:8080/"
    },
    "id": "PpzeaEn_wGD8",
    "outputId": "e70b2d5f-181e-486b-a15c-7f7d2ac51d1c",
    "scrolled": true
   },
   "outputs": [
    {
     "name": "stdout",
     "output_type": "stream",
     "text": [
      "[[ 0.  0.  0.  0.]\n",
      " [13.  0.  0.  0.]\n",
      " [ 0.  0.  0. 13.]\n",
      " [ 0. 13. 13.  0.]]\n"
     ]
    }
   ],
   "source": [
    "print(np.round(q_table))"
   ]
  },
  {
   "cell_type": "markdown",
   "id": "a8ce0ca5",
   "metadata": {
    "id": "a8ce0ca5"
   },
   "source": [
    "#### Random Jammmer ####"
   ]
  },
  {
   "cell_type": "code",
   "execution_count": 19,
   "id": "4d222665",
   "metadata": {
    "id": "4d222665"
   },
   "outputs": [],
   "source": [
    "q_table_random = np.zeros((len(state_space),len(action_space)))"
   ]
  },
  {
   "cell_type": "code",
   "execution_count": 20,
   "id": "4e6f2460",
   "metadata": {
    "id": "4e6f2460"
   },
   "outputs": [],
   "source": [
    "all_epochs = []\n",
    "all_iterations = []\n",
    "all_exploration_rate = []\n",
    "rewards_all_steps2 = []\n",
    "avg_reward_all_episodes2 = []\n",
    "#rewards_current_step = 0\n",
    "iterations = 0\n",
    "epochs = 0\n",
    "reward = np.zeros(max_steps_per_episode,dtype='float32')\n",
    "P_R_AP = np.zeros(max_steps_per_episode,dtype='float32')\n",
    "P_N = np.zeros(max_steps_per_episode,dtype='float32')\n",
    "SNR = np.zeros(max_steps_per_episode,dtype='float32')\n",
    "E_B = np.zeros(max_steps_per_episode,dtype='float32')\n",
    "\n",
    "# current_state = 0\n",
    "action = np.random.randint(0,K_ch,dtype=int)\n",
    "current_state = action\n",
    "# Q-learning algorithm\n",
    "for episode in range(num_episodes):\n",
    "    epochs += 1\n",
    "    rewards_current_step2 = 0\n",
    "    rewards_each_episode2 = []\n",
    "    #avg_reward = 0\n",
    "\n",
    "    for step in range(max_steps_per_episode):\n",
    "        iterations += 1\n",
    "#         print(iterations)\n",
    "#         print('Current_state: ',current_state)\n",
    "        # Exploration-exploitation trade-off\n",
    "\n",
    "        k = action #channel is decided based on e-greedy\n",
    "        f_k = Fc + (k*deltaf)\n",
    "        P_T = 1 #AP transmission power: 1W\n",
    "\n",
    "        #Jammer Strategy:\n",
    "        (P_J,f_J) = Jammer_Random(K_ch)\n",
    "\n",
    "#         print('AP Channel: ',f_k)\n",
    "#         print('Jammer Channel: ',f_J)\n",
    "\n",
    "        P_R = (((abs(ask))**2)*P_T*(APBD_ChannelGain(f_k)**2)) #+ ((s_bb**2)*P_J*APBD_ChannelGain(f_k)*JBD_ChannelGain(f_J)) + P_J*JAP_ChannelGain(f_J) + loopback_Channel() + abs(complex_noise(0, 1, N*L))\n",
    "\n",
    "        P_R_AP[step] = sum(P_R)/(N*L);\n",
    "\n",
    "#         Target_SNR = 15; #to calculate noise floor\n",
    "        Target_SNR = 20 # fixed noise floor, SNR = 20dB, #desired_SNR(k) #to get different noise floor for different channel\n",
    "        P_R_AP_tot = sum(P_R)/(N*L);\n",
    "        N_variance = P_R_AP_tot/10**(Target_SNR/10);\n",
    "\n",
    "\n",
    "        unwanted_signal = 1*(f_J==f_k)*Mean_Jam_Power(P_J,f_J) + loopback_Channel() + N_variance*abs(complex_noise(0, 1, N*L))\n",
    "\n",
    "\n",
    "        P_N[step] = sum(unwanted_signal)/(N*L)\n",
    "\n",
    "        SNR[step] =  P_R_AP[step]/P_N[step]\n",
    "\n",
    "\n",
    "\n",
    "        #print(SNR)\n",
    "        reward[step] = math.log2(1+SNR[step]) #SNR in linear scale will give throughput in bps; Here, throughput (reward) is in bps/Hz\n",
    "        #print(reward)\n",
    "        #next state\n",
    "        Pre_action = action\n",
    "        p0 = random.uniform(0, 1)\n",
    "        if p0 > exploration_rate:\n",
    "            action = np.argmax(np.diag(q_table_random)) #gives the index of the column with highest Q-value corresponding to row = current_state\n",
    "#             print('Exploited Action: ',action)\n",
    "        else:\n",
    "            action = random.choice(action_space)\n",
    "#             print('Random Action: ',action)\n",
    "#         if((action % 2 ==0)and(f_J == f_k)):\n",
    "#             new_state = (2*action)\n",
    "#         elif((action % 2 ==0)and(f_J != f_k)):\n",
    "#             new_state = (2*action) + 1\n",
    "#         elif((action % 2 !=0)and(f_J == f_k)):\n",
    "#             new_state = (2*action)\n",
    "#         else:\n",
    "#             new_state = (2*action) + 1\n",
    "#         if(f_J == f_k):\n",
    "#             new_state = 2*action\n",
    "#         else:\n",
    "#             new_state = 2*action + 1\n",
    "        new_state = action\n",
    "\n",
    "        # Update Q-table for Q(s,a)\n",
    "        q_table_random[current_state, Pre_action] = q_table_random[current_state, Pre_action] * (1 - learning_rate) + \\\n",
    "        learning_rate * (reward[step] + discount_rate * q_table_random[new_state, action])\n",
    "#         print(q_table)\n",
    "        # Transition to the next state\n",
    "        current_state = new_state\n",
    "\n",
    "#         print('action: ',action)\n",
    "#         print('new_state: ',new_state)\n",
    "\n",
    "\n",
    "\n",
    "        τ = 1 #e-3 #duration of 1 time slot = 1ms\n",
    "        ξ = 0.8 #energy harvesting efficiency\n",
    "        #levels = 5 #5 discrete levels of BD energy\n",
    "        #E_levels = np.arange(1, levels+1, 1, dtype=int)\n",
    "#         n=-1\n",
    "#         (P_J,f_J,n) = Jammer(n,K_ch)\n",
    "        PR_J = Mean_Jam_Power(P_J,f_J)\n",
    "        U_E = ξ*(PR_J*JBD_ChannelGain(f_J)**2 + P_T*APBD_ChannelGain(f_k)**2)*τ\n",
    "        E_BC = 0.75*U_E # Let 1 Unit energy used, fixed, by tag circuit during BC operation\n",
    "        E_EH = 0.25*U_E # Let 1 Unit energy used, fixed, by tag circuit during EH operation ### E_BC > E_EH\n",
    "        E_h = U_E #Amount of energy harvested #Energy harvested is function of time and power\n",
    "        E_B [step] = (abs(ask[step]))*E_BC - (1 - (abs(ask[step])))*E_EH + (1 - (abs(ask[step])))*E_h + 1*U_E\n",
    "\n",
    "        exploration_rate = min_exploration_rate + \\\n",
    "         (max_exploration_rate - min_exploration_rate) * np.exp(-exploration_decay_rate*episode)\n",
    "\n",
    "        # Add new reward\n",
    "\n",
    "        rewards_current_step2 = reward[step]\n",
    "        rewards_each_episode2.append(rewards_current_step2)\n",
    "        rewards_all_steps2.append(rewards_current_step2)\n",
    "        all_iterations.append(iterations)\n",
    "\n",
    "    avg_reward2 = sum(rewards_each_episode2)/max_steps_per_episode\n",
    "    avg_reward_all_episodes2.append(avg_reward2)\n",
    "    # Exploration rate decay (at the end of one episode, we need to update the exploration rate)\n",
    "    all_epochs.append(epochs)\n",
    "    all_exploration_rate.append(exploration_rate)\n"
   ]
  },
  {
   "cell_type": "markdown",
   "id": "7ff8fdc4",
   "metadata": {
    "id": "7ff8fdc4"
   },
   "source": [
    "#### Static Jammer ####"
   ]
  },
  {
   "cell_type": "code",
   "execution_count": 21,
   "id": "7ea7c6d0",
   "metadata": {
    "id": "7ea7c6d0"
   },
   "outputs": [],
   "source": [
    "q_table_static = np.zeros((len(state_space),len(action_space)))"
   ]
  },
  {
   "cell_type": "code",
   "execution_count": 22,
   "id": "a22c203d",
   "metadata": {
    "id": "a22c203d"
   },
   "outputs": [],
   "source": [
    "all_epochs = []\n",
    "all_iterations = []\n",
    "all_exploration_rate = []\n",
    "rewards_all_steps3 = []\n",
    "avg_reward_all_episodes3 = []\n",
    "#rewards_current_step = 0\n",
    "iterations = 0\n",
    "epochs = 0\n",
    "reward = np.zeros(max_steps_per_episode,dtype='float32')\n",
    "P_R_AP = np.zeros(max_steps_per_episode,dtype='float32')\n",
    "P_N = np.zeros(max_steps_per_episode,dtype='float32')\n",
    "SNR = np.zeros(max_steps_per_episode,dtype='float32')\n",
    "E_B = np.zeros(max_steps_per_episode,dtype='float32')\n",
    "\n",
    "# current_state = 0\n",
    "action = np.random.randint(0,K_ch,dtype=int)\n",
    "current_state = action\n",
    "# Q-learning algorithm\n",
    "for episode in range(num_episodes):\n",
    "    epochs += 1\n",
    "    rewards_current_step3 = 0\n",
    "    rewards_each_episode3 = []\n",
    "    #avg_reward = 0\n",
    "    for step in range(max_steps_per_episode):\n",
    "        iterations += 1\n",
    "#         print(iterations)\n",
    "#         print('Current_state: ',current_state)\n",
    "\n",
    "        # Exploration-exploitation trade-off\n",
    "        k = action #channel is decided based on e-greedy\n",
    "        f_k = Fc + (k*deltaf)\n",
    "        P_T = 1 #AP transmission power: 1W\n",
    "\n",
    "        #Jammer Strategy:\n",
    "        (P_J,f_J) = Jammer_Static(K_ch)\n",
    "\n",
    "#         print('AP Channel: ',f_k)\n",
    "#         print('Jammer Channel: ',f_J)\n",
    "\n",
    "        P_R = (((abs(ask))**2)*P_T*(APBD_ChannelGain(f_k)**2)) #+ ((s_bb**2)*P_J*APBD_ChannelGain(f_k)*JBD_ChannelGain(f_J)) + P_J*JAP_ChannelGain(f_J) + loopback_Channel() + abs(complex_noise(0, 1, N*L))\n",
    "\n",
    "        P_R_AP[step] = sum(P_R)/(N*L);\n",
    "\n",
    "#         Target_SNR = 15; #to calculate noise floor\n",
    "        Target_SNR = 20 # fixed noise floor, SNR = 20dB, #desired_SNR(k) #to get different noise floor for different channel\n",
    "        P_R_AP_tot = sum(P_R)/(N*L);\n",
    "        N_variance = P_R_AP_tot/10**(Target_SNR/10);\n",
    "\n",
    "        unwanted_signal = 1*(f_J==f_k)*Mean_Jam_Power(P_J,f_J) + loopback_Channel() + N_variance*abs(complex_noise(0, 1, N*L))\n",
    "\n",
    "        P_N[step] = sum(unwanted_signal)/(N*L)\n",
    "\n",
    "        SNR[step] =  P_R_AP[step]/P_N[step]\n",
    "\n",
    "        #print(SNR)\n",
    "        reward[step] = math.log2(1+SNR[step]) #SNR in linear scale will give throughput in bps; Here, throughput (reward) is in bps/Hz\n",
    "        #print(reward)\n",
    "        #next state\n",
    "        Pre_action = action\n",
    "        p0 = random.uniform(0, 1)\n",
    "        if p0 > exploration_rate:\n",
    "            action = np.argmax(np.diag(q_table_static)) #gives the index of the column with highest Q-value corresponding to row = current_state\n",
    "#             print('Exploited Action: ',action)\n",
    "        else:\n",
    "            action = random.choice(action_space)\n",
    "#             print('Random Action: ',action)\n",
    "\n",
    "#         if((action % 2 ==0)and(f_J == f_k)):\n",
    "#             new_state = (2*action)\n",
    "#         elif((action % 2 ==0)and(f_J != f_k)):\n",
    "#             new_state = (2*action) + 1\n",
    "#         elif((action % 2 !=0)and(f_J == f_k)):\n",
    "#             new_state = (2*action)\n",
    "#         else:\n",
    "#             new_state = (2*action) + 1\n",
    "#         if(f_J == f_k):\n",
    "#             new_state = 2*action\n",
    "#         else:\n",
    "#             new_state = 2*action + 1\n",
    "        new_state = action\n",
    "\n",
    "        # Update Q-table for Q(s,a)\n",
    "        q_table_static[current_state, Pre_action] = q_table_static[current_state, Pre_action]*(1 - learning_rate) + \\\n",
    "        learning_rate*(reward[step] + (discount_rate*q_table_static[new_state, action]))\n",
    "#         print(q_table)\n",
    "        # Transition to the next state\n",
    "        current_state = new_state\n",
    "\n",
    "#         print('action: ',action)\n",
    "#         print('new_state: ',new_state)\n",
    "\n",
    "\n",
    "\n",
    "        τ = 1 #e-3 #duration of 1 time slot = 1ms\n",
    "        ξ = 0.8 #energy harvesting efficiency\n",
    "        #levels = 5 #5 discrete levels of BD energy\n",
    "        #E_levels = np.arange(1, levels+1, 1, dtype=int)\n",
    "#         n=-1\n",
    "#         (P_J,f_J,n) = Jammer(n,K_ch)\n",
    "        PR_J = Mean_Jam_Power(P_J,f_J)\n",
    "        U_E = ξ*(PR_J*JBD_ChannelGain(f_J)**2 + P_T*APBD_ChannelGain(f_k)**2)*τ\n",
    "        E_BC = 0.75*U_E # Let 1 Unit energy used, fixed, by tag circuit during BC operation\n",
    "        E_EH = 0.25*U_E # Let 1 Unit energy used, fixed, by tag circuit during EH operation ### E_BC > E_EH\n",
    "        E_h = U_E #Amount of energy harvested #Energy harvested is function of time and power\n",
    "        E_B [step] = (abs(ask[step]))*E_BC - (1 - (abs(ask[step])))*E_EH + (1 - (abs(ask[step])))*E_h + 1*U_E\n",
    "\n",
    "        exploration_rate = min_exploration_rate + \\\n",
    "         (max_exploration_rate - min_exploration_rate) * np.exp(-exploration_decay_rate*episode)\n",
    "        # Add new reward\n",
    "\n",
    "        rewards_current_step3 = reward[step]\n",
    "        rewards_each_episode3.append(rewards_current_step3)\n",
    "        rewards_all_steps3.append(rewards_current_step3)\n",
    "        all_iterations.append(iterations)\n",
    "\n",
    "    avg_reward3 = sum(rewards_each_episode3)/max_steps_per_episode\n",
    "    avg_reward_all_episodes3.append(avg_reward3)\n",
    "    # Exploration rate decay (at the end of one episode, we need to update the exploration rate)\n",
    "    all_epochs.append(epochs)\n",
    "    all_exploration_rate.append(exploration_rate)\n"
   ]
  },
  {
   "cell_type": "code",
   "execution_count": 23,
   "id": "QOEj-3gZRX5F",
   "metadata": {
    "id": "QOEj-3gZRX5F"
   },
   "outputs": [],
   "source": [
    "#Jammer can be present or absent in the current channel, jammer_state = [0,1]\n",
    "learning_rate = 0.001 #high LR focus more on new, less on old; low LR learn nothing, use prior knowledge....my observation => low LR better converge\n",
    "discount_rate = 0.9 #high DR focus more on distant reward, low DR focus more on immediate reward\n",
    "K_ch = 10 #enter number of channels\n",
    "AP_state = np.arange(0,K_ch,dtype=int)\n",
    "# jammer_state = [1,0] #1 => jammer present, 0=> jammer absent\n",
    "#Action:\n",
    "#Action space is denoted by AP jumping into a channel, action_space = [0,1,...,K]\n",
    "action_space = np.arange(0,K_ch,dtype=int)\n",
    "#State Space\n",
    "state_space = AP_state\n",
    "q_table_static_ch10 = np.zeros((len(state_space),len(action_space)))"
   ]
  },
  {
   "cell_type": "code",
   "execution_count": 24,
   "id": "iUswK9GbRcxP",
   "metadata": {
    "id": "iUswK9GbRcxP"
   },
   "outputs": [],
   "source": [
    "all_epochs = []\n",
    "all_iterations = []\n",
    "all_exploration_rate = []\n",
    "rewards_all_steps_ch10 = []\n",
    "avg_reward_all_episodes_ch10 = []\n",
    "#rewards_current_step = 0\n",
    "iterations = 0\n",
    "epochs = 0\n",
    "reward = np.zeros(max_steps_per_episode,dtype='float32')\n",
    "P_R_AP = np.zeros(max_steps_per_episode,dtype='float32')\n",
    "P_N = np.zeros(max_steps_per_episode,dtype='float32')\n",
    "SNR = np.zeros(max_steps_per_episode,dtype='float32')\n",
    "E_B = np.zeros(max_steps_per_episode,dtype='float32')\n",
    "\n",
    "# current_state = 0\n",
    "action = np.random.randint(0,K_ch,dtype=int)\n",
    "current_state = action\n",
    "# Q-learning algorithm\n",
    "for episode in range(num_episodes):\n",
    "    epochs += 1\n",
    "    rewards_current_step_ch10 = 0\n",
    "    rewards_each_episode_ch10 = []\n",
    "    #avg_reward = 0\n",
    "    for step in range(max_steps_per_episode):\n",
    "        iterations += 1\n",
    "#         print(iterations)\n",
    "#         print('Current_state: ',current_state)\n",
    "\n",
    "        # Exploration-exploitation trade-off\n",
    "        k = action #channel is decided based on e-greedy\n",
    "        f_k = Fc + (k*deltaf)\n",
    "        P_T = 1 #AP transmission power: 1W\n",
    "\n",
    "        #Jammer Strategy:\n",
    "        (P_J,f_J) = Jammer_Static(K_ch)\n",
    "\n",
    "#         print('AP Channel: ',f_k)\n",
    "#         print('Jammer Channel: ',f_J)\n",
    "\n",
    "        P_R = (((abs(ask))**2)*P_T*(APBD_ChannelGain(f_k)**2)) #+ ((s_bb**2)*P_J*APBD_ChannelGain(f_k)*JBD_ChannelGain(f_J)) + P_J*JAP_ChannelGain(f_J) + loopback_Channel() + abs(complex_noise(0, 1, N*L))\n",
    "\n",
    "        P_R_AP[step] = sum(P_R)/(N*L);\n",
    "\n",
    "#         Target_SNR = 15; #to calculate noise floor\n",
    "        Target_SNR = 20 # fixed noise floor, SNR = 20dB, #desired_SNR(k) #to get different noise floor for different channel\n",
    "        P_R_AP_tot = sum(P_R)/(N*L);\n",
    "        N_variance = P_R_AP_tot/10**(Target_SNR/10);\n",
    "\n",
    "        unwanted_signal = 1*(f_J==f_k)*Mean_Jam_Power(P_J,f_J) + loopback_Channel() + N_variance*abs(complex_noise(0, 1, N*L))\n",
    "\n",
    "        P_N[step] = sum(unwanted_signal)/(N*L)\n",
    "\n",
    "        SNR[step] =  P_R_AP[step]/P_N[step]\n",
    "\n",
    "        #print(SNR)\n",
    "        reward[step] = math.log2(1+SNR[step]) #SNR in linear scale will give throughput in bps; Here, throughput (reward) is in bps/Hz\n",
    "        #print(reward)\n",
    "        #next state\n",
    "        Pre_action = action\n",
    "        p0 = random.uniform(0, 1)\n",
    "        if p0 > exploration_rate:\n",
    "            action = np.argmax(np.diag(q_table_static_ch10)) #gives the index of the column with highest Q-value corresponding to row = current_state\n",
    "#             print('Exploited Action: ',action)\n",
    "        else:\n",
    "            action = random.choice(action_space)\n",
    "#             print('Random Action: ',action)\n",
    "\n",
    "#         if((action % 2 ==0)and(f_J == f_k)):\n",
    "#             new_state = (2*action)\n",
    "#         elif((action % 2 ==0)and(f_J != f_k)):\n",
    "#             new_state = (2*action) + 1\n",
    "#         elif((action % 2 !=0)and(f_J == f_k)):\n",
    "#             new_state = (2*action)\n",
    "#         else:\n",
    "#             new_state = (2*action) + 1\n",
    "#         if(f_J == f_k):\n",
    "#             new_state = 2*action\n",
    "#         else:\n",
    "#             new_state = 2*action + 1\n",
    "        new_state = action\n",
    "\n",
    "        # Update Q-table for Q(s,a)\n",
    "        q_table_static_ch10[current_state, Pre_action] = q_table_static_ch10[current_state, Pre_action]*(1 - learning_rate) + \\\n",
    "        learning_rate*(reward[step] + (discount_rate*q_table_static_ch10[new_state, action]))\n",
    "#         print(q_table)\n",
    "        # Transition to the next state\n",
    "        current_state = new_state\n",
    "\n",
    "#         print('action: ',action)\n",
    "#         print('new_state: ',new_state)\n",
    "\n",
    "\n",
    "\n",
    "        τ = 1 #e-3 #duration of 1 time slot = 1ms\n",
    "        ξ = 0.8 #energy harvesting efficiency\n",
    "        #levels = 5 #5 discrete levels of BD energy\n",
    "        #E_levels = np.arange(1, levels+1, 1, dtype=int)\n",
    "#         n=-1\n",
    "#         (P_J,f_J,n) = Jammer(n,K_ch)\n",
    "        PR_J = Mean_Jam_Power(P_J,f_J)\n",
    "        U_E = ξ*(PR_J*JBD_ChannelGain(f_J)**2 + P_T*APBD_ChannelGain(f_k)**2)*τ\n",
    "        E_BC = 0.75*U_E # Let 1 Unit energy used, fixed, by tag circuit during BC operation\n",
    "        E_EH = 0.25*U_E # Let 1 Unit energy used, fixed, by tag circuit during EH operation ### E_BC > E_EH\n",
    "        E_h = U_E #Amount of energy harvested #Energy harvested is function of time and power\n",
    "        E_B [step] = (abs(ask[step]))*E_BC - (1 - (abs(ask[step])))*E_EH + (1 - (abs(ask[step])))*E_h + 1*U_E\n",
    "\n",
    "        exploration_rate = min_exploration_rate + \\\n",
    "         (max_exploration_rate - min_exploration_rate) * np.exp(-exploration_decay_rate*episode)\n",
    "        # Add new reward\n",
    "\n",
    "        rewards_current_step_ch10 = reward[step]\n",
    "        rewards_each_episode_ch10.append(rewards_current_step_ch10)\n",
    "        rewards_all_steps_ch10.append(rewards_current_step_ch10)\n",
    "        all_iterations.append(iterations)\n",
    "\n",
    "    avg_reward_ch10 = sum(rewards_each_episode_ch10)/max_steps_per_episode\n",
    "    avg_reward_all_episodes_ch10.append(avg_reward_ch10)\n",
    "    # Exploration rate decay (at the end of one episode, we need to update the exploration rate)\n",
    "    all_epochs.append(epochs)\n",
    "    all_exploration_rate.append(exploration_rate)\n"
   ]
  },
  {
   "cell_type": "code",
   "execution_count": 42,
   "id": "9275cc09",
   "metadata": {
    "colab": {
     "base_uri": "https://localhost:8080/"
    },
    "id": "9275cc09",
    "outputId": "00a34cc7-3b1c-40c9-8a7f-2a797d232ffa",
    "scrolled": false
   },
   "outputs": [
    {
     "name": "stdout",
     "output_type": "stream",
     "text": [
      "\n",
      "\n",
      "********Q-table********\n",
      "\n",
      "[[0. 0. 0. 0.]\n",
      " [2. 2. 0. 0.]\n",
      " [0. 0. 2. 2.]\n",
      " [0. 0. 0. 0.]]\n"
     ]
    }
   ],
   "source": [
    "# Print updated Q-table\n",
    "\n",
    "print(\"\\n\\n********Q-table********\\n\")\n",
    "print(np.round(q_table))"
   ]
  },
  {
   "cell_type": "code",
   "execution_count": null,
   "id": "9436a12c",
   "metadata": {
    "colab": {
     "base_uri": "https://localhost:8080/"
    },
    "id": "9436a12c",
    "outputId": "fe8a7b35-4b1a-44fa-dede-b2fb159995ad"
   },
   "outputs": [
    {
     "name": "stdout",
     "output_type": "stream",
     "text": [
      "[[9. 0. 0.]\n",
      " [0. 9. 0.]\n",
      " [0. 0. 9.]]\n"
     ]
    }
   ],
   "source": [
    "print(np.round(q_table_random))"
   ]
  },
  {
   "cell_type": "code",
   "execution_count": null,
   "id": "75165d76",
   "metadata": {
    "colab": {
     "base_uri": "https://localhost:8080/"
    },
    "id": "75165d76",
    "outputId": "4e602cd0-e763-483f-93ae-0d75c7bf7a3b"
   },
   "outputs": [
    {
     "name": "stdout",
     "output_type": "stream",
     "text": [
      "[[11.  0.  0.]\n",
      " [ 0. 13.  0.]\n",
      " [ 0.  0. 13.]]\n"
     ]
    }
   ],
   "source": [
    "print(np.round(q_table_static))"
   ]
  },
  {
   "cell_type": "markdown",
   "id": "b9fcc5df",
   "metadata": {
    "id": "b9fcc5df"
   },
   "source": [
    "## Plots ##"
   ]
  },
  {
   "cell_type": "code",
   "execution_count": 70,
   "id": "554e2ecb",
   "metadata": {
    "colab": {
     "base_uri": "https://localhost:8080/",
     "height": 472
    },
    "id": "554e2ecb",
    "outputId": "5728e2ec-a617-4a9b-a3f6-2680ff047c36"
   },
   "outputs": [
    {
     "data": {
      "image/png": "[encoded data removed]",
      "text/plain": [
       "<Figure size 432x288 with 1 Axes>"
      ]
     },
     "metadata": {
      "needs_background": "light"
     },
     "output_type": "display_data"
    }
   ],
   "source": [
    "# Function to calculate a simple moving average\n",
    "def moving_average(data, window_size):\n",
    "    return np.convolve(data, np.ones(window_size)/window_size, mode='valid')\n",
    "\n",
    "# Set the window size for smoothing\n",
    "window_size = 5\n",
    "\n",
    "# Calculate the moving average of real rewards\n",
    "smoothed_rewards = moving_average(avg_reward_all_episodes, window_size)\n",
    "#smoothed_rewards2 = moving_average(avg_reward_all_episodes2, window_size)\n",
    "#smoothed_rewards3 = moving_average(avg_reward_all_episodes3, window_size)\n",
    "\n",
    "fig1, ax1 = plt.subplots(nrows=1,ncols = 1)\n",
    "# ax1.semilogy(all_epochs,avg_reward_all_episodes,'-*', alpha=0.5, label = 'Learning Rate = 0.1', color ='blue')\n",
    "# ax1.semilogy(all_epochs,avg_reward_all_episodes2,'-*', alpha=0.5, label = 'Learning Rate = 0.1', color ='green')\n",
    "# ax1.semilogy(all_epochs,avg_reward_all_episodes3,'-*', alpha=0.5, label = 'Learning Rate = 0.1', color ='red')\n",
    "ax1.set_xlabel(r'Episode')\n",
    "ax1.set_ylabel(r'Average Throughput (bps/Hz)')\n",
    "ax1.set_title('Average Throughput over Multiple Episodes')\n",
    "plt.grid(True)\n",
    "\n",
    "# Plot the smoothed rewards\n",
    "#plt.plot(all_epochs[:-window_size+1], smoothed_rewards2, label=f'Smoothed Rewards (Window Size={window_size})', color='red')\n",
    "#plt.plot(all_epochs[:-window_size+1], smoothed_rewards3, label=f'Smoothed Rewards (Window Size={window_size})', color='green')\n",
    "plt.plot(all_epochs[:-window_size+1], smoothed_rewards, label=f'Smoothed Rewards (Window Size={window_size})', color='blue')\n",
    "# ax1.legend(['Round Robin', 'Static', 'Random'])\n",
    "# Add labels and legend\n",
    "# plt.xlabel('Episode')\n",
    "# plt.ylabel('Reward')\n",
    "# plt.title('Average Reward vs Episode with Smoothed Rewards')\n",
    "# plt.legend()\n",
    "\n",
    "# Show the plot\n",
    "# plt.show()\n",
    "\n",
    "save_results_to = 'C:/Users/Zunayeed/Desktop/PhD/WICL/NSF-AoF Project/Simulation BC EH/Debugging/'\n",
    "#plt.savefig(save_results_to + 'Avg_Throughput_3Strategies_200S_600E_10channels.png', dpi = 300)"
   ]
  },
  {
   "cell_type": "code",
   "execution_count": null,
   "id": "kOL2rttYQwAS",
   "metadata": {
    "colab": {
     "base_uri": "https://localhost:8080/",
     "height": 472
    },
    "id": "kOL2rttYQwAS",
    "outputId": "9c2147c1-74cf-4529-8cd8-7ff569dd5990"
   },
   "outputs": [
    {
     "data": {
      "image/png": "[encoded data removed]",
      "text/plain": [
       "<Figure size 640x480 with 1 Axes>"
      ]
     },
     "metadata": {},
     "output_type": "display_data"
    }
   ],
   "source": [
    "# Function to calculate a simple moving average\n",
    "def moving_average(data, window_size):\n",
    "    return np.convolve(data, np.ones(window_size)/window_size, mode='valid')\n",
    "\n",
    "# Set the window size for smoothing\n",
    "window_size = 5\n",
    "\n",
    "# Calculate the moving average of real rewards\n",
    "smoothed_rewards3 = moving_average(avg_reward_all_episodes3, window_size)\n",
    "smoothed_rewards_ch10 = moving_average(avg_reward_all_episodes_ch10, window_size)\n",
    "\n",
    "fig1, ax1 = plt.subplots(nrows=1,ncols = 1)\n",
    "# ax1.semilogy(all_epochs,avg_reward_all_episodes,'-*', alpha=0.5, label = 'Learning Rate = 0.1', color ='blue')\n",
    "# ax1.semilogy(all_epochs,avg_reward_all_episodes2,'-*', alpha=0.5, label = 'Learning Rate = 0.1', color ='green')\n",
    "# ax1.semilogy(all_epochs,avg_reward_all_episodes3,'-*', alpha=0.5, label = 'Learning Rate = 0.1', color ='red')\n",
    "ax1.set_xlabel(r'Episode')\n",
    "ax1.set_ylabel(r'Average Throughput (bps/Hz)')\n",
    "ax1.set_title('Average Throughput over Multiple Episodes')\n",
    "plt.grid(True)\n",
    "\n",
    "# Plot the smoothed rewards\n",
    "plt.plot(all_epochs[:-window_size+1], smoothed_rewards3, label=f'Smoothed Rewards (Window Size={window_size})', color='green')\n",
    "plt.plot(all_epochs[:-window_size+1], smoothed_rewards_ch10, label=f'Smoothed Rewards (Window Size={window_size})', color='y')\n",
    "# ax1.legend(['Round Robin', 'Static', 'Random'])\n",
    "# Add labels and legend\n",
    "# plt.xlabel('Episode')\n",
    "# plt.ylabel('Reward')\n",
    "# plt.title('Average Reward vs Episode with Smoothed Rewards')\n",
    "# plt.legend()\n",
    "\n",
    "# Show the plot\n",
    "# plt.show()\n",
    "\n",
    "save_results_to = 'C:/Users/Zunayeed/Desktop/PhD/WICL/NSF-AoF Project/Simulation BC EH/Debugging/'\n",
    "#plt.savefig(save_results_to + 'Avg_Throughput_3Strategies_200S_600E_10channels.png', dpi = 300)"
   ]
  },
  {
   "cell_type": "code",
   "execution_count": null,
   "id": "Gm0J7KXKa6O3",
   "metadata": {
    "colab": {
     "base_uri": "https://localhost:8080/",
     "height": 472
    },
    "id": "Gm0J7KXKa6O3",
    "outputId": "ffea66f6-7c9e-4ea4-c2ae-5522a06db083"
   },
   "outputs": [
    {
     "data": {
      "image/png": "[encoded data removed]",
      "text/plain": [
       "<Figure size 640x480 with 1 Axes>"
      ]
     },
     "metadata": {},
     "output_type": "display_data"
    }
   ],
   "source": [
    "# Function to calculate a simple moving average\n",
    "def moving_average(data, window_size):\n",
    "    return np.convolve(data, np.ones(window_size)/window_size, mode='valid')\n",
    "\n",
    "# Set the window size for smoothing\n",
    "window_size = 5\n",
    "\n",
    "# Calculate the moving average of real rewards\n",
    "smoothed_rewards_ch10 = moving_average(avg_reward_all_episodes_ch10, window_size)\n",
    "\n",
    "fig1, ax1 = plt.subplots(nrows=1,ncols = 1)\n",
    "# ax1.semilogy(all_epochs,avg_reward_all_episodes,'-*', alpha=0.5, label = 'Learning Rate = 0.1', color ='blue')\n",
    "# ax1.semilogy(all_epochs,avg_reward_all_episodes2,'-*', alpha=0.5, label = 'Learning Rate = 0.1', color ='green')\n",
    "# ax1.semilogy(all_epochs,avg_reward_all_episodes3,'-*', alpha=0.5, label = 'Learning Rate = 0.1', color ='red')\n",
    "ax1.set_xlabel(r'Episode')\n",
    "ax1.set_ylabel(r'Average Throughput (bps/Hz)')\n",
    "ax1.set_title('Average Throughput over Multiple Episodes')\n",
    "plt.grid(True)\n",
    "\n",
    "# Plot the smoothed rewards\n",
    "plt.plot(all_epochs[:-window_size+1], smoothed_rewards_ch10, label=f'Smoothed Rewards (Window Size={window_size})', color='y')\n",
    "# ax1.legend(['Round Robin', 'Static', 'Random'])\n",
    "# Add labels and legend\n",
    "# plt.xlabel('Episode')\n",
    "# plt.ylabel('Reward')\n",
    "# plt.title('Average Reward vs Episode with Smoothed Rewards')\n",
    "# plt.legend()\n",
    "\n",
    "# Show the plot\n",
    "# plt.show()\n",
    "\n",
    "save_results_to = 'C:/Users/Zunayeed/Desktop/PhD/WICL/NSF-AoF Project/Simulation BC EH/Debugging/'\n",
    "#plt.savefig(save_results_to + 'Avg_Throughput_3Strategies_200S_600E_10channels.png', dpi = 300)"
   ]
  },
  {
   "cell_type": "markdown",
   "id": "bac182ef",
   "metadata": {
    "id": "bac182ef"
   },
   "source": [
    "### for debugging ###"
   ]
  },
  {
   "cell_type": "code",
   "execution_count": null,
   "id": "f7aa207b",
   "metadata": {
    "colab": {
     "base_uri": "https://localhost:8080/"
    },
    "id": "f7aa207b",
    "outputId": "cbddf7c6-5f6e-4542-b7f3-0237fa739fef"
   },
   "outputs": [
    {
     "name": "stdout",
     "output_type": "stream",
     "text": [
      "AP - BD Channel Gain:  9.764508894084387e-05\n",
      "Jammer - AP Channel Gain:  0.00011315333230151742\n",
      "Jammer - BD Channel Gain:  0.00013644970515546543\n"
     ]
    }
   ],
   "source": [
    "f = 900e6\n",
    "fJ = 900e6\n",
    "\n",
    "# **** for path loss ****\n",
    "\n",
    "# P_J = 20\n",
    "# Pt_dBm = 10*math.log10(P_J*1000) #selecting random jamming power between 1W - 4W\n",
    "# Gt_dBi = 1 #Gain of the Tx antenna in dBi\n",
    "# Gr_dBi = 1 #Gain of the Rx antenna in dBi\n",
    "# d0 = 1 #reference distance of receiver from the transmitter in meters\n",
    "# d = 10 #\n",
    "# dJ = 2 #distance between Tx and Rx\n",
    "# L = 1 #Other System Losses, for no Loss case L=1\n",
    "# sigma=2 #Standard deviation of log Normal distribution (in dB)\n",
    "# n=2 #\n",
    "# APBD_path_loss_dB = logNormalShadowing(Pt_dBm,Gt_dBi,Gr_dBi,f,d0,d,L,sigma,n)\n",
    "# jammer_path_loss_dB = logNormalShadowing(Pt_dBm,Gt_dBi,Gr_dBi,fJ,d0,dJ,L,sigma,n)\n",
    "# print('APBD Path Loss in dB: ',APBD_path_loss_dB)\n",
    "# print('Jammer Path Loss in dB: ',jammer_path_loss_dB)\n",
    "\n",
    "# **** for gain ****\n",
    "\n",
    "H = APBD_ChannelGain(f)\n",
    "JBD = JBD_ChannelGain(fJ)\n",
    "JAP = JAP_ChannelGain(fJ)\n",
    "print('AP - BD Channel Gain: ',H)\n",
    "#print('AP - BD distance: ',d)\n",
    "print('Jammer - AP Channel Gain: ',JAP)\n",
    "print('Jammer - BD Channel Gain: ',JBD)\n",
    "#print('Jammer - AP/BD Distance: ',dJ)"
   ]
  },
  {
   "cell_type": "code",
   "execution_count": null,
   "id": "e3123170",
   "metadata": {
    "colab": {
     "base_uri": "https://localhost:8080/",
     "height": 245
    },
    "id": "e3123170",
    "outputId": "62448e75-f5e7-4270-e8b4-2174a6038cd0"
   },
   "outputs": [
    {
     "ename": "TypeError",
     "evalue": "Jammer_Random() takes 1 positional argument but 2 were given",
     "output_type": "error",
     "traceback": [
      "\u001b[0;31m---------------------------------------------------------------------------\u001b[0m",
      "\u001b[0;31mTypeError\u001b[0m                                 Traceback (most recent call last)",
      "\u001b[0;32m<ipython-input-77-97524eefbd31>\u001b[0m in \u001b[0;36m<cell line: 2>\u001b[0;34m()\u001b[0m\n\u001b[1;32m      2\u001b[0m \u001b[0;32mfor\u001b[0m \u001b[0mi\u001b[0m \u001b[0;32min\u001b[0m \u001b[0mrange\u001b[0m\u001b[0;34m(\u001b[0m\u001b[0;36m20\u001b[0m\u001b[0;34m)\u001b[0m\u001b[0;34m:\u001b[0m\u001b[0;34m\u001b[0m\u001b[0;34m\u001b[0m\u001b[0m\n\u001b[1;32m      3\u001b[0m     \u001b[0;31m#Jammer Strategy: Static Jammer\u001b[0m\u001b[0;34m\u001b[0m\u001b[0;34m\u001b[0m\u001b[0m\n\u001b[0;32m----> 4\u001b[0;31m     \u001b[0;34m(\u001b[0m\u001b[0mP_J\u001b[0m\u001b[0;34m,\u001b[0m\u001b[0mf_J\u001b[0m\u001b[0;34m,\u001b[0m\u001b[0mn\u001b[0m\u001b[0;34m)\u001b[0m \u001b[0;34m=\u001b[0m \u001b[0mJammer_Random\u001b[0m\u001b[0;34m(\u001b[0m\u001b[0mn\u001b[0m\u001b[0;34m,\u001b[0m\u001b[0mK_ch\u001b[0m\u001b[0;34m)\u001b[0m\u001b[0;34m\u001b[0m\u001b[0;34m\u001b[0m\u001b[0m\n\u001b[0m\u001b[1;32m      5\u001b[0m \u001b[0;34m\u001b[0m\u001b[0m\n\u001b[1;32m      6\u001b[0m     \u001b[0mk\u001b[0m \u001b[0;34m=\u001b[0m \u001b[0;36m0\u001b[0m \u001b[0;31m# AP channel\u001b[0m\u001b[0;34m\u001b[0m\u001b[0;34m\u001b[0m\u001b[0m\n",
      "\u001b[0;31mTypeError\u001b[0m: Jammer_Random() takes 1 positional argument but 2 were given"
     ]
    }
   ],
   "source": [
    "n = -1\n",
    "for i in range(20):\n",
    "    #Jammer Strategy: Static Jammer\n",
    "    (P_J,f_J,n) = Jammer_Random(n,K_ch)\n",
    "\n",
    "    k = 0 # AP channel\n",
    "    f_k = Fc + (k*deltaf)\n",
    "\n",
    "    P_R = (((abs(ask))**2)*P_T*(APBD_ChannelGain(f_k)**2))\n",
    "    P_R_AP = sum(P_R)/(N*L) #Average Received Power\n",
    "    Noise_variance = (P_R_AP)/(10**(20/10)) #Desired SNR assumed to be 20dB\n",
    "    unwanted_signal = 1*(f_k == f_J)*P_J*JAP_ChannelGain(f_J) + loopback_Channel() + Noise_variance*abs(complex_noise(0, 1, N*L))\n",
    "    ### 1*(f_k == f_J)*... => 0 if f_K is not equal to f_J\n",
    "    P_N = sum(unwanted_signal)/(N*L)\n",
    "    SNR =  P_R_AP/P_N\n",
    "    SNR_dB = 10*math.log(SNR)\n",
    "    # #print(SNR)\n",
    "    throughput = math.log2(1+SNR) #SNR in linear scale will give throughput in bps; Here, throughput (reward) is in bps/Hz\n",
    "    # print(unwanted_signal)\n",
    "    # print(y_AP_squared)\n",
    "    print('AP Channel: ',f_k)\n",
    "    print('Jammer Channel: ',f_J)\n",
    "#     print('Received Power: ',P_R_AP)\n",
    "#     print('Noise Power: ',P_N)\n",
    "#     print('SNR: ',SNR)\n",
    "    print('SNR in dB: ',SNR_dB)\n",
    "#     print('Throughput: ',throughput)\n"
   ]
  },
  {
   "cell_type": "code",
   "execution_count": 17,
   "id": "17c2e035",
   "metadata": {
    "id": "17c2e035"
   },
   "outputs": [],
   "source": [
    "action = np.random.randint(0,K_ch,dtype=int)\n",
    "current_state = action;\n",
    "# Q-learning algorithm\n",
    "Action_RR = np.arange(0,K_ch,dtype=int)"
   ]
  },
  {
   "cell_type": "code",
   "execution_count": 18,
   "id": "fee31c11",
   "metadata": {
    "id": "fee31c11"
   },
   "outputs": [
    {
     "name": "stdout",
     "output_type": "stream",
     "text": [
      "6\n",
      "Action_RR [0 1 2 3 4 5 6 7]\n"
     ]
    }
   ],
   "source": [
    "print(action)\n",
    "print('Action_RR',Action_RR)"
   ]
  },
  {
   "cell_type": "code",
   "execution_count": 20,
   "id": "5f01b94d",
   "metadata": {},
   "outputs": [
    {
     "name": "stdout",
     "output_type": "stream",
     "text": [
      "[4]\n"
     ]
    }
   ],
   "source": [
    "k_RR = -1\n",
    "for i in range(5):\n",
    "    k_RR = k_RR + 1\n",
    "    A_RR = np.array([k_RR])\n",
    "print(A_RR)"
   ]
  },
  {
   "cell_type": "code",
   "execution_count": 21,
   "id": "529a8e11",
   "metadata": {},
   "outputs": [
    {
     "name": "stdout",
     "output_type": "stream",
     "text": [
      "[1 2 3 4 5 6 7 4]\n"
     ]
    }
   ],
   "source": [
    "Action_RR = np.concatenate((Action_RR[1:K_ch],A_RR))\n",
    "print(Action_RR)"
   ]
  },
  {
   "cell_type": "code",
   "execution_count": null,
   "id": "3aa7820d",
   "metadata": {},
   "outputs": [],
   "source": []
  }
 ],
 "metadata": {
  "colab": {
   "provenance": []
  },
  "kernelspec": {
   "display_name": "Python 3 (ipykernel)",
   "language": "python",
   "name": "python3"
  },
  "language_info": {
   "codemirror_mode": {
    "name": "ipython",
    "version": 3
   },
   "file_extension": ".py",
   "mimetype": "text/x-python",
   "name": "python",
   "nbconvert_exporter": "python",
   "pygments_lexer": "ipython3",
   "version": "3.9.12"
  }
 },
 "nbformat": 4,
 "nbformat_minor": 5
}
