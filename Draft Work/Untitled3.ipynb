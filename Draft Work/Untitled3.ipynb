{
 "cells": [
  {
   "cell_type": "code",
   "execution_count": 1,
   "id": "ec8b0081",
   "metadata": {},
   "outputs": [
    {
     "name": "stdout",
     "output_type": "stream",
     "text": [
      "Collecting nbdime\n",
      "  Downloading nbdime-3.2.1-py2.py3-none-any.whl (5.3 MB)\n",
      "Requirement already satisfied: requests in c:\\users\\zunayeed\\anaconda3\\lib\\site-packages (from nbdime) (2.27.1)\n",
      "Collecting jupyter-server-mathjax>=0.2.2\n",
      "  Downloading jupyter_server_mathjax-0.2.6-py3-none-any.whl (3.1 MB)\n",
      "Requirement already satisfied: tornado in c:\\users\\zunayeed\\anaconda3\\lib\\site-packages (from nbdime) (6.1)\n",
      "Requirement already satisfied: colorama in c:\\users\\zunayeed\\anaconda3\\lib\\site-packages (from nbdime) (0.4.4)\n",
      "Requirement already satisfied: jupyter-server in c:\\users\\zunayeed\\anaconda3\\lib\\site-packages (from nbdime) (1.13.5)\n",
      "Requirement already satisfied: jinja2>=2.9 in c:\\users\\zunayeed\\anaconda3\\lib\\site-packages (from nbdime) (2.11.3)\n",
      "Collecting GitPython!=2.1.4,!=2.1.5,!=2.1.6\n",
      "  Downloading GitPython-3.1.40-py3-none-any.whl (190 kB)\n",
      "Requirement already satisfied: nbformat in c:\\users\\zunayeed\\anaconda3\\lib\\site-packages (from nbdime) (5.3.0)\n",
      "Requirement already satisfied: pygments in c:\\users\\zunayeed\\anaconda3\\lib\\site-packages (from nbdime) (2.11.2)\n",
      "Collecting gitdb<5,>=4.0.1\n",
      "  Downloading gitdb-4.0.11-py3-none-any.whl (62 kB)\n",
      "Collecting smmap<6,>=3.0.1\n",
      "  Downloading smmap-5.0.1-py3-none-any.whl (24 kB)\n",
      "Requirement already satisfied: MarkupSafe>=0.23 in c:\\users\\zunayeed\\anaconda3\\lib\\site-packages (from jinja2>=2.9->nbdime) (2.0.1)\n",
      "Requirement already satisfied: jupyter-core>=4.6.0 in c:\\users\\zunayeed\\anaconda3\\lib\\site-packages (from jupyter-server->nbdime) (4.9.2)\n",
      "Requirement already satisfied: jupyter-client>=6.1.1 in c:\\users\\zunayeed\\anaconda3\\lib\\site-packages (from jupyter-server->nbdime) (6.1.12)\n",
      "Requirement already satisfied: ipython-genutils in c:\\users\\zunayeed\\anaconda3\\lib\\site-packages (from jupyter-server->nbdime) (0.2.0)\n",
      "Requirement already satisfied: prometheus-client in c:\\users\\zunayeed\\anaconda3\\lib\\site-packages (from jupyter-server->nbdime) (0.13.1)\n",
      "Requirement already satisfied: Send2Trash in c:\\users\\zunayeed\\anaconda3\\lib\\site-packages (from jupyter-server->nbdime) (1.8.0)\n",
      "Requirement already satisfied: packaging in c:\\users\\zunayeed\\anaconda3\\lib\\site-packages (from jupyter-server->nbdime) (21.3)\n",
      "Requirement already satisfied: traitlets>=5 in c:\\users\\zunayeed\\anaconda3\\lib\\site-packages (from jupyter-server->nbdime) (5.1.1)\n",
      "Requirement already satisfied: terminado>=0.8.3 in c:\\users\\zunayeed\\anaconda3\\lib\\site-packages (from jupyter-server->nbdime) (0.13.1)\n",
      "Collecting pywinpty<2\n",
      "  Downloading pywinpty-1.1.6-cp39-none-win_amd64.whl (1.4 MB)\n",
      "Requirement already satisfied: websocket-client in c:\\users\\zunayeed\\anaconda3\\lib\\site-packages (from jupyter-server->nbdime) (0.58.0)\n",
      "Requirement already satisfied: argon2-cffi in c:\\users\\zunayeed\\anaconda3\\lib\\site-packages (from jupyter-server->nbdime) (21.3.0)\n",
      "Requirement already satisfied: anyio<4,>=3.1.0 in c:\\users\\zunayeed\\anaconda3\\lib\\site-packages (from jupyter-server->nbdime) (3.5.0)\n",
      "Requirement already satisfied: nbconvert in c:\\users\\zunayeed\\anaconda3\\lib\\site-packages (from jupyter-server->nbdime) (6.4.4)\n",
      "Requirement already satisfied: pyzmq>=17 in c:\\users\\zunayeed\\anaconda3\\lib\\site-packages (from jupyter-server->nbdime) (22.3.0)\n",
      "Requirement already satisfied: sniffio>=1.1 in c:\\users\\zunayeed\\anaconda3\\lib\\site-packages (from anyio<4,>=3.1.0->jupyter-server->nbdime) (1.2.0)\n",
      "Requirement already satisfied: idna>=2.8 in c:\\users\\zunayeed\\anaconda3\\lib\\site-packages (from anyio<4,>=3.1.0->jupyter-server->nbdime) (3.3)\n",
      "Requirement already satisfied: python-dateutil>=2.1 in c:\\users\\zunayeed\\anaconda3\\lib\\site-packages (from jupyter-client>=6.1.1->jupyter-server->nbdime) (2.8.2)\n",
      "Requirement already satisfied: pywin32>=1.0 in c:\\users\\zunayeed\\anaconda3\\lib\\site-packages (from jupyter-core>=4.6.0->jupyter-server->nbdime) (302)\n",
      "Requirement already satisfied: six>=1.5 in c:\\users\\zunayeed\\anaconda3\\lib\\site-packages (from python-dateutil>=2.1->jupyter-client>=6.1.1->jupyter-server->nbdime) (1.16.0)\n",
      "Requirement already satisfied: argon2-cffi-bindings in c:\\users\\zunayeed\\anaconda3\\lib\\site-packages (from argon2-cffi->jupyter-server->nbdime) (21.2.0)\n",
      "Requirement already satisfied: cffi>=1.0.1 in c:\\users\\zunayeed\\anaconda3\\lib\\site-packages (from argon2-cffi-bindings->argon2-cffi->jupyter-server->nbdime) (1.15.0)\n",
      "Requirement already satisfied: pycparser in c:\\users\\zunayeed\\anaconda3\\lib\\site-packages (from cffi>=1.0.1->argon2-cffi-bindings->argon2-cffi->jupyter-server->nbdime) (2.21)\n",
      "Requirement already satisfied: pandocfilters>=1.4.1 in c:\\users\\zunayeed\\anaconda3\\lib\\site-packages (from nbconvert->jupyter-server->nbdime) (1.5.0)\n",
      "Requirement already satisfied: jupyterlab-pygments in c:\\users\\zunayeed\\anaconda3\\lib\\site-packages (from nbconvert->jupyter-server->nbdime) (0.1.2)\n",
      "Requirement already satisfied: entrypoints>=0.2.2 in c:\\users\\zunayeed\\anaconda3\\lib\\site-packages (from nbconvert->jupyter-server->nbdime) (0.4)\n",
      "Requirement already satisfied: mistune<2,>=0.8.1 in c:\\users\\zunayeed\\anaconda3\\lib\\site-packages (from nbconvert->jupyter-server->nbdime) (0.8.4)\n",
      "Requirement already satisfied: bleach in c:\\users\\zunayeed\\anaconda3\\lib\\site-packages (from nbconvert->jupyter-server->nbdime) (4.1.0)\n",
      "Requirement already satisfied: defusedxml in c:\\users\\zunayeed\\anaconda3\\lib\\site-packages (from nbconvert->jupyter-server->nbdime) (0.7.1)\n",
      "Requirement already satisfied: beautifulsoup4 in c:\\users\\zunayeed\\anaconda3\\lib\\site-packages (from nbconvert->jupyter-server->nbdime) (4.11.1)\n",
      "Requirement already satisfied: nbclient<0.6.0,>=0.5.0 in c:\\users\\zunayeed\\anaconda3\\lib\\site-packages (from nbconvert->jupyter-server->nbdime) (0.5.13)\n",
      "Requirement already satisfied: testpath in c:\\users\\zunayeed\\anaconda3\\lib\\site-packages (from nbconvert->jupyter-server->nbdime) (0.5.0)\n",
      "Requirement already satisfied: nest-asyncio in c:\\users\\zunayeed\\anaconda3\\lib\\site-packages (from nbclient<0.6.0,>=0.5.0->nbconvert->jupyter-server->nbdime) (1.5.5)\n",
      "Requirement already satisfied: fastjsonschema in c:\\users\\zunayeed\\anaconda3\\lib\\site-packages (from nbformat->nbdime) (2.15.1)\n",
      "Requirement already satisfied: jsonschema>=2.6 in c:\\users\\zunayeed\\anaconda3\\lib\\site-packages (from nbformat->nbdime) (4.4.0)\n",
      "Requirement already satisfied: attrs>=17.4.0 in c:\\users\\zunayeed\\anaconda3\\lib\\site-packages (from jsonschema>=2.6->nbformat->nbdime) (21.4.0)\n",
      "Requirement already satisfied: pyrsistent!=0.17.0,!=0.17.1,!=0.17.2,>=0.14.0 in c:\\users\\zunayeed\\anaconda3\\lib\\site-packages (from jsonschema>=2.6->nbformat->nbdime) (0.18.0)\n",
      "Requirement already satisfied: soupsieve>1.2 in c:\\users\\zunayeed\\anaconda3\\lib\\site-packages (from beautifulsoup4->nbconvert->jupyter-server->nbdime) (2.3.1)\n",
      "Requirement already satisfied: webencodings in c:\\users\\zunayeed\\anaconda3\\lib\\site-packages (from bleach->nbconvert->jupyter-server->nbdime) (0.5.1)\n",
      "Requirement already satisfied: pyparsing!=3.0.5,>=2.0.2 in c:\\users\\zunayeed\\anaconda3\\lib\\site-packages (from packaging->jupyter-server->nbdime) (3.0.4)\n",
      "Requirement already satisfied: urllib3<1.27,>=1.21.1 in c:\\users\\zunayeed\\anaconda3\\lib\\site-packages (from requests->nbdime) (1.26.9)\n",
      "Requirement already satisfied: charset-normalizer~=2.0.0 in c:\\users\\zunayeed\\anaconda3\\lib\\site-packages (from requests->nbdime) (2.0.4)\n",
      "Requirement already satisfied: certifi>=2017.4.17 in c:\\users\\zunayeed\\anaconda3\\lib\\site-packages (from requests->nbdime) (2021.10.8)\n",
      "Installing collected packages: pywinpty, smmap, gitdb, jupyter-server-mathjax, GitPython, nbdime\n",
      "  Attempting uninstall: pywinpty\n",
      "    Found existing installation: pywinpty 2.0.2\n",
      "    Uninstalling pywinpty-2.0.2:\n",
      "      Successfully uninstalled pywinpty-2.0.2\n",
      "Successfully installed GitPython-3.1.40 gitdb-4.0.11 jupyter-server-mathjax-0.2.6 nbdime-3.2.1 pywinpty-1.1.6 smmap-5.0.1\n",
      "Note: you may need to restart the kernel to use updated packages.\n"
     ]
    }
   ],
   "source": [
    "pip install nbdime"
   ]
  },
  {
   "cell_type": "code",
   "execution_count": 3,
   "id": "013d0734",
   "metadata": {},
   "outputs": [
    {
     "ename": "SyntaxError",
     "evalue": "invalid syntax (235165173.py, line 1)",
     "output_type": "error",
     "traceback": [
      "\u001b[1;36m  Input \u001b[1;32mIn [3]\u001b[1;36m\u001b[0m\n\u001b[1;33m    nbdiff-web Two_Learning_Agent_AP_Learning_Agent_Static_Jammer - Long Edited Version.ipynb Two Learning Agent - AP Learning Agent - Static Jammer.ipynb\u001b[0m\n\u001b[1;37m               ^\u001b[0m\n\u001b[1;31mSyntaxError\u001b[0m\u001b[1;31m:\u001b[0m invalid syntax\n"
     ]
    }
   ],
   "source": [
    "nbdiff-web Two_Learning_Agent_AP_Learning_Agent_Static_Jammer - Long Edited Version.ipynb Two Learning Agent - AP Learning Agent - Static Jammer.ipynb"
   ]
  },
  {
   "cell_type": "code",
   "execution_count": null,
   "id": "fb735583",
   "metadata": {},
   "outputs": [],
   "source": []
  }
 ],
 "metadata": {
  "kernelspec": {
   "display_name": "Python 3 (ipykernel)",
   "language": "python",
   "name": "python3"
  },
  "language_info": {
   "codemirror_mode": {
    "name": "ipython",
    "version": 3
   },
   "file_extension": ".py",
   "mimetype": "text/x-python",
   "name": "python",
   "nbconvert_exporter": "python",
   "pygments_lexer": "ipython3",
   "version": "3.9.12"
  }
 },
 "nbformat": 4,
 "nbformat_minor": 5
}
