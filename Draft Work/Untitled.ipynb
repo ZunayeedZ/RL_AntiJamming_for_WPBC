{
 "cells": [
  {
   "cell_type": "code",
   "execution_count": 4,
   "id": "22c96a6b",
   "metadata": {},
   "outputs": [
    {
     "data": {
      "image/png": "[encoded data removed]",
      "text/plain": [
       "<Figure size 432x288 with 1 Axes>"
      ]
     },
     "metadata": {
      "needs_background": "light"
     },
     "output_type": "display_data"
    },
    {
     "data": {
      "image/png": "[encoded data removed]",
      "text/plain": [
       "<Figure size 432x288 with 1 Axes>"
      ]
     },
     "metadata": {
      "needs_background": "light"
     },
     "output_type": "display_data"
    }
   ],
   "source": [
    "#Eb/N0 Vs BER for BPSK over AWGN (complex baseband model)\n",
    "# © Author: Mathuranathan Viswanathan (gaussianwaves.com)\n",
    "import numpy as np #for numerical computing\n",
    "import matplotlib.pyplot as plt #for plotting functions\n",
    "from scipy.special import erfc #erfc/Q function\n",
    "\n",
    "#---------Input Fields------------------------\n",
    "nSym = 10**5 # Number of symbols to transmit\n",
    "EbN0dBs = np.arange(start=-4,stop = 13, step = 2) # Eb/N0 range in dB for simulation\n",
    "BER_sim = np.zeros(len(EbN0dBs)) # simulated Bit error rates\n",
    "\n",
    "M=2 #Number of points in BPSK constellation\n",
    "m = np.arange(0,M) #all possible input symbols\n",
    "A = 1; #amplitude\n",
    "constellation = A*np.cos(m/M*2*np.pi)  #reference constellation for BPSK\n",
    "\n",
    "#------------ Transmitter---------------\n",
    "inputSyms = np.random.randint(low=0, high = M, size=nSym) #Random 1's and 0's as input to BPSK modulator\n",
    "s = constellation[inputSyms] #modulated symbols\n",
    "\n",
    "fig, ax1 = plt.subplots(nrows=1,ncols = 1)\n",
    "ax1.plot(np.real(constellation),np.imag(constellation),'*')\n",
    "\n",
    "#----------- Channel --------------\n",
    "#Compute power in modulatedSyms and add AWGN noise for given SNRs\n",
    "for j,EbN0dB in enumerate(EbN0dBs):\n",
    "    gamma = 10**(EbN0dB/10) #SNRs to linear scale\n",
    "    P=sum(abs(s)**2)/len(s) #Actual power in the vector\n",
    "    N0=P/gamma # Find the noise spectral density\n",
    "    n = np.sqrt(N0/2)*np.random.standard_normal(s.shape) # computed noise vector\n",
    "    r = s + n # received signal\n",
    "    \n",
    "    #-------------- Receiver ------------\n",
    "    detectedSyms = (r <= 0).astype(int) #thresolding at value 0\n",
    "    BER_sim[j] = np.sum(detectedSyms != inputSyms)/nSym #calculate BER\n",
    "\n",
    "BER_theory = 0.5*erfc(np.sqrt(10**(EbN0dBs/10)))\n",
    "\n",
    "fig, ax = plt.subplots(nrows=1,ncols = 1)\n",
    "ax.semilogy(EbN0dBs,BER_sim,color='r',marker='o',linestyle='',label='BPSK Sim')\n",
    "ax.semilogy(EbN0dBs,BER_theory,marker='',linestyle='-',label='BPSK Theory')\n",
    "ax.set_xlabel('$E_b/N_0(dB)$');ax.set_ylabel('BER ($P_b$)')\n",
    "ax.set_title('Probability of Bit Error for BPSK over AWGN channel')\n",
    "ax.set_xlim(-5,13);ax.grid(True);\n",
    "ax.legend();plt.show()"
   ]
  },
  {
   "cell_type": "code",
   "execution_count": 3,
   "id": "58d9bb8f",
   "metadata": {},
   "outputs": [
    {
     "data": {
      "text/plain": [
       "array([0.1866, 0.1312, 0.0748, 0.035 , 0.0138, 0.0018, 0.0002, 0.    ,\n",
       "       0.    ])"
      ]
     },
     "execution_count": 3,
     "metadata": {},
     "output_type": "execute_result"
    }
   ],
   "source": [
    "BER_sim"
   ]
  },
  {
   "cell_type": "code",
   "execution_count": 5,
   "id": "e976a6ba",
   "metadata": {},
   "outputs": [
    {
     "data": {
      "text/plain": [
       "array([0.18759, 0.13118, 0.07865, 0.03629, 0.01247, 0.00248, 0.00022,\n",
       "       0.     , 0.     ])"
      ]
     },
     "execution_count": 5,
     "metadata": {},
     "output_type": "execute_result"
    }
   ],
   "source": [
    "BER_sim"
   ]
  },
  {
   "cell_type": "code",
   "execution_count": 14,
   "id": "1feebc97",
   "metadata": {},
   "outputs": [
    {
     "name": "stdout",
     "output_type": "stream",
     "text": [
      "[1, 1, 1, 0, 0, 1, 0]\n"
     ]
    }
   ],
   "source": [
    "s_bb = [1,1, 1, -1, -1, 1, -1]\n",
    "mu = [1 if val == 1 else 0 for val in s_bb]\n",
    "print(mu)\n"
   ]
  },
  {
   "cell_type": "code",
   "execution_count": 12,
   "id": "4d1d8f70",
   "metadata": {},
   "outputs": [
    {
     "ename": "NameError",
     "evalue": "name 'append' is not defined",
     "output_type": "error",
     "traceback": [
      "\u001b[1;31m---------------------------------------------------------------------------\u001b[0m",
      "\u001b[1;31mNameError\u001b[0m                                 Traceback (most recent call last)",
      "Input \u001b[1;32mIn [12]\u001b[0m, in \u001b[0;36m<cell line: 3>\u001b[1;34m()\u001b[0m\n\u001b[0;32m      4\u001b[0m     append\u001b[38;5;241m.\u001b[39mmu \u001b[38;5;241m=\u001b[39m \u001b[38;5;241m0\u001b[39m\n\u001b[0;32m      5\u001b[0m \u001b[38;5;28;01melse\u001b[39;00m:\n\u001b[1;32m----> 6\u001b[0m     \u001b[43mappend\u001b[49m\u001b[38;5;241m.\u001b[39mmu \u001b[38;5;241m=\u001b[39m \u001b[38;5;241m1\u001b[39m\n\u001b[0;32m      7\u001b[0m \u001b[38;5;66;03m#print(mu)\u001b[39;00m\n\u001b[0;32m      8\u001b[0m mu\n",
      "\u001b[1;31mNameError\u001b[0m: name 'append' is not defined"
     ]
    }
   ],
   "source": [
    "import numpy as np\n",
    "t_s = \n",
    "K_J = np.random.randint(low=0, high = 2, size=t_s)\n",
    "K_J = np.rand[0,1] #should be an array randomly changing between 0 and 1 of dimension = number of time steps\n",
    "#ξ = 0.8 #energy harvesting efficiency\n",
    "r = 0.25\n",
    "τ = 1 #duration of each time slot is 1s\n",
    "τ_sense = 0.15\n",
    "τ_switch = [0 if val == 1 else 0.1 for val in K_J]\n",
    "τ_EH = τ - (r*τ) - (τ_sense + τ_switch)"
   ]
  },
  {
   "cell_type": "code",
   "execution_count": 15,
   "id": "236ae4c3",
   "metadata": {},
   "outputs": [],
   "source": [
    "def awgn(signal, desired_snr, signal_power):\n",
    "    \"\"\"\n",
    "    Add AWGN to the input signal to achieve the desired SNR level.\n",
    "    \"\"\"\n",
    "    # Calculate the noise power based on the desired SNR and signal power\n",
    "    noise_power = signal_power / (10**(desired_snr / 10))\n",
    "    \n",
    "    # Generate the noise with the calculated power\n",
    "    noise = np.random.normal(0, np.sqrt(noise_power), len(signal))\n",
    "    \n",
    "    # Add the noise to the original signal\n",
    "    noisy_signal = signal + noise\n",
    "    \n",
    "    return noisy_signal"
   ]
  },
  {
   "cell_type": "code",
   "execution_count": 18,
   "id": "6990142b",
   "metadata": {},
   "outputs": [
    {
     "ename": "ValueError",
     "evalue": "shape mismatch: objects cannot be broadcast to a single shape",
     "output_type": "error",
     "traceback": [
      "\u001b[1;31m---------------------------------------------------------------------------\u001b[0m",
      "\u001b[1;31mValueError\u001b[0m                                Traceback (most recent call last)",
      "Input \u001b[1;32mIn [18]\u001b[0m, in \u001b[0;36m<cell line: 13>\u001b[1;34m()\u001b[0m\n\u001b[0;32m     11\u001b[0m EbN0dB \u001b[38;5;241m=\u001b[39m np\u001b[38;5;241m.\u001b[39marange(start\u001b[38;5;241m=\u001b[39m\u001b[38;5;241m-\u001b[39m\u001b[38;5;241m4\u001b[39m,stop \u001b[38;5;241m=\u001b[39m \u001b[38;5;241m11\u001b[39m,step \u001b[38;5;241m=\u001b[39m \u001b[38;5;241m2\u001b[39m)\n\u001b[0;32m     12\u001b[0m \u001b[38;5;66;03m# Add AWGN to the signal\u001b[39;00m\n\u001b[1;32m---> 13\u001b[0m noisy_signal \u001b[38;5;241m=\u001b[39m \u001b[43mawgn\u001b[49m\u001b[43m(\u001b[49m\u001b[43msignal\u001b[49m\u001b[43m,\u001b[49m\u001b[43m \u001b[49m\u001b[43mdesired_snr\u001b[49m\u001b[38;5;241;43m=\u001b[39;49m\u001b[43mEbN0dB\u001b[49m\u001b[43m,\u001b[49m\u001b[43m \u001b[49m\u001b[43msignal_power\u001b[49m\u001b[38;5;241;43m=\u001b[39;49m\u001b[43msignal_power\u001b[49m\u001b[43m)\u001b[49m\n\u001b[0;32m     15\u001b[0m \u001b[38;5;66;03m# Plot the original and noisy signals\u001b[39;00m\n\u001b[0;32m     16\u001b[0m plt\u001b[38;5;241m.\u001b[39mfigure(figsize\u001b[38;5;241m=\u001b[39m(\u001b[38;5;241m12\u001b[39m, \u001b[38;5;241m6\u001b[39m))\n",
      "Input \u001b[1;32mIn [15]\u001b[0m, in \u001b[0;36mawgn\u001b[1;34m(signal, desired_snr, signal_power)\u001b[0m\n\u001b[0;32m      6\u001b[0m noise_power \u001b[38;5;241m=\u001b[39m signal_power \u001b[38;5;241m/\u001b[39m (\u001b[38;5;241m10\u001b[39m\u001b[38;5;241m*\u001b[39m\u001b[38;5;241m*\u001b[39m(desired_snr \u001b[38;5;241m/\u001b[39m \u001b[38;5;241m10\u001b[39m))\n\u001b[0;32m      8\u001b[0m \u001b[38;5;66;03m# Generate the noise with the calculated power\u001b[39;00m\n\u001b[1;32m----> 9\u001b[0m noise \u001b[38;5;241m=\u001b[39m \u001b[43mnp\u001b[49m\u001b[38;5;241;43m.\u001b[39;49m\u001b[43mrandom\u001b[49m\u001b[38;5;241;43m.\u001b[39;49m\u001b[43mnormal\u001b[49m\u001b[43m(\u001b[49m\u001b[38;5;241;43m0\u001b[39;49m\u001b[43m,\u001b[49m\u001b[43m \u001b[49m\u001b[43mnp\u001b[49m\u001b[38;5;241;43m.\u001b[39;49m\u001b[43msqrt\u001b[49m\u001b[43m(\u001b[49m\u001b[43mnoise_power\u001b[49m\u001b[43m)\u001b[49m\u001b[43m,\u001b[49m\u001b[43m \u001b[49m\u001b[38;5;28;43mlen\u001b[39;49m\u001b[43m(\u001b[49m\u001b[43msignal\u001b[49m\u001b[43m)\u001b[49m\u001b[43m)\u001b[49m\n\u001b[0;32m     11\u001b[0m \u001b[38;5;66;03m# Add the noise to the original signal\u001b[39;00m\n\u001b[0;32m     12\u001b[0m noisy_signal \u001b[38;5;241m=\u001b[39m signal \u001b[38;5;241m+\u001b[39m noise\n",
      "File \u001b[1;32mmtrand.pyx:1507\u001b[0m, in \u001b[0;36mnumpy.random.mtrand.RandomState.normal\u001b[1;34m()\u001b[0m\n",
      "File \u001b[1;32m_common.pyx:562\u001b[0m, in \u001b[0;36mnumpy.random._common.cont\u001b[1;34m()\u001b[0m\n",
      "File \u001b[1;32m_common.pyx:479\u001b[0m, in \u001b[0;36mnumpy.random._common.cont_broadcast_2\u001b[1;34m()\u001b[0m\n",
      "File \u001b[1;32m__init__.pxd:742\u001b[0m, in \u001b[0;36mnumpy.PyArray_MultiIterNew3\u001b[1;34m()\u001b[0m\n",
      "\u001b[1;31mValueError\u001b[0m: shape mismatch: objects cannot be broadcast to a single shape"
     ]
    }
   ],
   "source": [
    "import numpy as np #for numerical computing\n",
    "import matplotlib.pyplot as plt #for plotting functions\n",
    "from scipy.special import erfc #erfc/Q function\n",
    "# Generate a sine wave signal\n",
    "t = np.arange(0, 1, 0.001)\n",
    "signal = np.sin(2 * np.pi * 5 * t)\n",
    "\n",
    "# Calculate the power of the signal\n",
    "signal_power = np.mean(signal**2)\n",
    "\n",
    "EbN0dB = np.arange(start=-4,stop = 11,step = 2)\n",
    "# Add AWGN to the signal\n",
    "noisy_signal = awgn(signal, desired_snr=EbN0dB, signal_power=signal_power)\n",
    "\n",
    "# Plot the original and noisy signals\n",
    "plt.figure(figsize=(12, 6))\n",
    "plt.plot(t, signal, label='Original Signal')\n",
    "plt.plot(t, noisy_signal, label='Signal with AWGN', alpha=0.7)\n",
    "plt.legend()\n",
    "plt.show()"
   ]
  },
  {
   "cell_type": "code",
   "execution_count": null,
   "id": "0ac4e62e",
   "metadata": {},
   "outputs": [],
   "source": []
  }
 ],
 "metadata": {
  "kernelspec": {
   "display_name": "Python 3 (ipykernel)",
   "language": "python",
   "name": "python3"
  },
  "language_info": {
   "codemirror_mode": {
    "name": "ipython",
    "version": 3
   },
   "file_extension": ".py",
   "mimetype": "text/x-python",
   "name": "python",
   "nbconvert_exporter": "python",
   "pygments_lexer": "ipython3",
   "version": "3.9.12"
  }
 },
 "nbformat": 4,
 "nbformat_minor": 5
}
