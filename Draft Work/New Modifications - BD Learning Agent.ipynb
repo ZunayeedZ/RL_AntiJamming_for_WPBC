{
 "cells": [
  {
   "cell_type": "code",
   "execution_count": 1,
   "id": "cba86602",
   "metadata": {},
   "outputs": [],
   "source": [
    "#Import dependencies\n",
    "import numpy as np\n",
    "import math\n",
    "import random\n",
    "import matplotlib.pyplot as plt #for plotting functions\n",
    "from scipy.special import erfc\n",
    "from numpy import sum,isrealobj,sqrt\n",
    "from numpy.random import standard_normal\n",
    "from scipy.special import erfc"
   ]
  },
  {
   "cell_type": "markdown",
   "id": "8cf5ed22",
   "metadata": {},
   "source": [
    "### Required Functions ###"
   ]
  },
  {
   "cell_type": "code",
   "execution_count": 2,
   "id": "aaa988d9",
   "metadata": {},
   "outputs": [],
   "source": [
    "#BPSK Modulation\n",
    "def bpsk_mod(mu,L):\n",
    "    from scipy.signal import upfirdn\n",
    "    s_bb = upfirdn(h=[1]*L, x=2*mu-1, up = L) # NRZ encoder; upfirdn: Upsample, FIR filter, and downsample.\n",
    "    t=np.arange(start = 0,stop = len(mu)*L) #discrete time base\n",
    "    return (s_bb,t)"
   ]
  },
  {
   "cell_type": "markdown",
   "id": "06ff42e0",
   "metadata": {},
   "source": [
    "### More Required Functions ###"
   ]
  },
  {
   "cell_type": "code",
   "execution_count": 4,
   "id": "f794bdeb",
   "metadata": {},
   "outputs": [],
   "source": [
    "#Pathloss Model - Log distance\n",
    "def logNormalShadowing(Pt_dBm,Gt_dBi,Gr_dBi,f,d0,d,L,sigma,n):\n",
    "    #Pt_dBm = Transmitted power in dBm\n",
    "    #G_BD_dBi = Gain of the BD antenna in dBi\n",
    "    #G_AP_dBi = Gain of the AP antenna in dBi\n",
    "    #f = frequency of transmitted signal in Hertz\n",
    "    #d0 = reference distance of receiver from the transmitter in meters\n",
    "    #d = array of distances at which the loss needs to be calculated\n",
    "    #L = Other System Losses, for no Loss case L=1\n",
    "    #sigma = Standard deviation of log Normal distribution (in dB)\n",
    "    #n = path loss exponent\n",
    "    #Pr_dBm = Received power in dBm\n",
    "    #PL = path loss due to log normal shadowing\n",
    "    lamda_ = (3*10**8)/f #Wavelength in meters\n",
    "    K = 20*math.log10(lamda_/(4*np.pi)) - 10*n*math.log10(d0) - 10*math.log10(L) #path-loss factor\n",
    "    X = sigma*np.random.randn() #normal random variable\n",
    "    PL = Gt_dBi + Gr_dBi + K -10*n*math.log10(d/d0) - X  #PL(d) including antennas gains\n",
    "    #Pr_dBm = Pt_dBm + PL #Receieved power in dBm at d meters\n",
    "    return PL\n",
    "\n",
    "\n",
    "#AP-BD Channel Gain\n",
    "def APBD_ChannelGain(f):\n",
    "    Pt_dBm = 30 #1W AP transmission power 1W = 30dBm\n",
    "    Gt_dBi = 1 #Gain of the AP antenna in dBi \n",
    "    Gr_dBi = 1 #Gain of the BD antenna in dBi\n",
    "    d0 = 1 #reference distance of receiver from the transmitter in meters\n",
    "    d = 10 #distance between AP and BD\n",
    "    L = 1 #Other System Losses, for no Loss case L=1\n",
    "    sigma=2 #Standard deviation of log Normal distribution (in dB)\n",
    "    n=2 # path loss exponent\n",
    "    PG_dBi = - logNormalShadowing(Pt_dBm,Gt_dBi,Gr_dBi,f,d0,d,L,sigma,n)\n",
    "    return PG_dBi\n",
    "\n",
    "#J-AP Channel Gain\n",
    "def JAP_ChannelGain(f):\n",
    "    M = 5\n",
    "    P_J = np.random.randint(low=1,high=M,dtype = int) #choose a number between 1-4\n",
    "    Pt_dBm = 10*math.log10(P_J*1000) #selecting random jamming power between 1W - 4W\n",
    "    Gt_dBi = 1 #Gain of the J antenna in dBi \n",
    "    Gr_dBi = 1 #Gain of the AP antenna in dBi\n",
    "    d0 = 1 #reference distance of receiver from the transmitter in meters\n",
    "    d = 100 #distance between J and AP\n",
    "    L = 1 #Other System Losses, for no Loss case L=1\n",
    "    sigma=2 #Standard deviation of log Normal distribution (in dB)\n",
    "    n=2 # path loss exponent\n",
    "    PG_dBi = - logNormalShadowing(Pt_dBm,Gt_dBi,Gr_dBi,f,d0,d,L,sigma,n)\n",
    "    return PG_dBi\n",
    "\n",
    "#J-BD Channel Gain\n",
    "def JBD_ChannelGain(f):\n",
    "    M = 5\n",
    "    P_J = np.random.randint(low=1,high=M,dtype = int) #choose a number between 1-4\n",
    "    Pt_dBm = 10*math.log10(P_J*1000) #selecting random jamming power between 1W - 4W\n",
    "    Gt_dBi = 1 #Gain of the J antenna in dBi \n",
    "    Gr_dBi = 1 #Gain of the BD antenna in dBi\n",
    "    d0 = 1 #reference distance of receiver from the transmitter in meters\n",
    "    d = 100 #distance between J and BD\n",
    "    L = 1 #Other System Losses, for no Loss case L=1\n",
    "    sigma=2 #Standard deviation of log Normal distribution (in dB)\n",
    "    n=2 # path loss exponent\n",
    "    PG_dBi = - logNormalShadowing(Pt_dBm,Gt_dBi,Gr_dBi,f,d0,d,L,sigma,n)\n",
    "    return PG_dBi\n",
    "\n",
    "#Loopback Channel Gain (SIC)\n",
    "def loopback_Channel():\n",
    "    epsilon = 1e-10 #very small number\n",
    "    Pt_dBm = 30 #should be same as AP transmission power\n",
    "    #g_hat: feedback channel coefficient\n",
    "    #g_bar = 7e-5 #g_bar: feedback channel coefficient estimation\n",
    "    #g_tilde = 6e-5#g_tilde: estimation error\n",
    "    #g_hat = g_bar + (sqrt(epsilon))*g_tilde \n",
    "    G = 1 #E[g_tilde**2]=1\n",
    "    sigma = np.random.normal(loc=0.0, scale=1.0, size=None)\n",
    "    phi = 30 #dBm 30dBm reduction = 60dB reduction, by current techniques, it has been reported that SI can be canceled up to −81 dB in analog domain\n",
    "    combined_power = (Pt_dBm*phi) + sigma**2\n",
    "    P = combined_power*epsilon*G\n",
    "    return P"
   ]
  },
  {
   "cell_type": "markdown",
   "id": "8a4a6f2d",
   "metadata": {},
   "source": [
    "### System Parameters ###"
   ]
  },
  {
   "cell_type": "code",
   "execution_count": 5,
   "id": "ce0fb6e5",
   "metadata": {},
   "outputs": [],
   "source": [
    "#System parameters\n",
    "N=10000 # Number of symbols to transmit\n",
    "L=16 # oversampling factor,L=Tb/Ts(Tb=bit period,Ts=sampling period) Tb (bit period) = symbol duration = (1/900MHz) = 1.1ns\n",
    "deltaf = 10e6 #frequency step\n",
    "Fc = 900e6 #900MHz #base carrier frequency\n",
    "Fs=L*Fc # sampling frequency"
   ]
  },
  {
   "cell_type": "markdown",
   "id": "97a446f4",
   "metadata": {},
   "source": [
    "#### AP and Jammer Signal ####"
   ]
  },
  {
   "cell_type": "code",
   "execution_count": 6,
   "id": "19b69879",
   "metadata": {},
   "outputs": [],
   "source": [
    "### numpy.random.randn => Return a sample (or samples) from the “standard normal” distribution. \n",
    "#[Recall: The standard normal distribution is a specific type of normal distribution where the mean is equal to 0 \n",
    "#and the standard deviation is equal to 1.]\n",
    "### numpy.random.normal => Draw random samples from a normal (Gaussian) distribution. \n",
    "\n",
    "x = (np.random.randn(N*L) + 1j*np.random.randn(N*L))/np.sqrt(2) #Complex Gaussian with unity power of size N*L (N: # of symbols generated)\n",
    "x_J = (np.random.randn(N*L) + 1j*np.random.randn(N*L))/np.sqrt(2) #Complex Gaussian with unity power of size N*L (N: # of symbols generated)"
   ]
  },
  {
   "cell_type": "markdown",
   "id": "de2d1ef0",
   "metadata": {},
   "source": [
    "### Noise ###"
   ]
  },
  {
   "cell_type": "code",
   "execution_count": 7,
   "id": "a80ad94d",
   "metadata": {},
   "outputs": [],
   "source": [
    "#random.normal(loc=0.0, scale=1.0, size=None); loc => mean, scale => Standard deviation of the distribution (must be non-negative\n",
    "def complex_noise(mean, variance, size):\n",
    "    # Generate real and imaginary parts separately with normal distribution\n",
    "    real_part = np.random.normal(mean, np.sqrt(variance), size)\n",
    "    imag_part = np.random.normal(mean, np.sqrt(variance), size)\n",
    "    \n",
    "    # Combine real and imaginary parts into complex numbers\n",
    "    complex_noise = real_part + 1j * imag_part\n",
    "    \n",
    "    return complex_noise"
   ]
  },
  {
   "cell_type": "markdown",
   "id": "31c965f7",
   "metadata": {},
   "source": [
    "### State Space, Action Space ###"
   ]
  },
  {
   "cell_type": "code",
   "execution_count": 8,
   "id": "3d5dbbcd",
   "metadata": {},
   "outputs": [],
   "source": [
    "# BD - learning agent:\n",
    "#State: {E_B}: energy/battery level, we can discretize it. {1, 2, ..., L}\n",
    "#Action: harvesting or backscatter, e.g., {harvesting: 0; backscatter: 1}\n",
    "#Reward: {backscattered: reward 1; otherwise: reward 0}; This will not reflect the true throughput since the backscatter could be jammed.\n",
    "#Then BD can adopt Q-learning\n",
    "    \n",
    "M = 10 #set number of jammer power level i.e. Jammer shuffles between M power levels\n",
    "\n",
    "def battery_state(mu):\n",
    "    \n",
    "    P_T = 1 #AP transmission power: 1W\n",
    "    #M = 10 #Jammer power level upper limit\n",
    "    P_J = np.random.randint(low=0,high=M,dtype = int) #choose a number between 0 to M-1\n",
    "    τ = 1#e-3 #duration of 1 time slot = 1ms\n",
    "    ξ = 0.8 #energy harvesting efficiency\n",
    "    #levels = 5 #5 discrete levels of BD energy\n",
    "    #E_levels = np.arange(1, levels+1, 1, dtype=int)\n",
    "    U_E = ξ*(P_J + P_T)*τ#*E_levels #Unit Energy #Signal energy doesn't depend upon frequency\n",
    "    E_BC = 0.75*U_E # Let 1 Unit energy used, fixed, by tag circuit during BC operation\n",
    "    E_EH = 0.25*U_E # Let 1 Unit energy used, fixed, by tag circuit during EH operation ### E_BC > E_EH\n",
    "    E_h = U_E #Amount of energy harvested #Energy harvested is function of time and power\n",
    "    E_B = mu*E_BC - (1 - mu)*E_EH + (1 - mu)*E_h + 1*U_E\n",
    "    return np.round(E_B)\n",
    "\n",
    "state_space = [] #number of jammer power level = number of battery energy levels\n",
    "action_space = np.array([0,1])\n",
    "#print(P_J,E_B)\n",
    "#state_space_list = state_space.tolist()"
   ]
  },
  {
   "cell_type": "code",
   "execution_count": 9,
   "id": "7310e589",
   "metadata": {},
   "outputs": [
    {
     "name": "stdout",
     "output_type": "stream",
     "text": [
      "[[0. 0.]\n",
      " [0. 0.]\n",
      " [0. 0.]\n",
      " [0. 0.]\n",
      " [0. 0.]\n",
      " [0. 0.]\n",
      " [0. 0.]\n",
      " [0. 0.]\n",
      " [0. 0.]\n",
      " [0. 0.]]\n"
     ]
    }
   ],
   "source": [
    "q_table = np.zeros((M, len(action_space)))\n",
    "print(q_table)"
   ]
  },
  {
   "cell_type": "markdown",
   "id": "7f578c2c",
   "metadata": {},
   "source": [
    "### Trainning Phase"
   ]
  },
  {
   "cell_type": "markdown",
   "id": "55c7bcf5",
   "metadata": {},
   "source": [
    "### Number of steps/time slots ###"
   ]
  },
  {
   "cell_type": "code",
   "execution_count": 10,
   "id": "d238e9e2",
   "metadata": {},
   "outputs": [],
   "source": [
    "#Number of steps each episode will have. 1 step = 1 time slot\n",
    "nSteps = 400 #number of time steps, in each time step, AP chooses a new channel ## 1 time step = 1 time slot"
   ]
  },
  {
   "cell_type": "code",
   "execution_count": 11,
   "id": "2b2f4715",
   "metadata": {},
   "outputs": [],
   "source": [
    "#training parameters\n",
    "#In this case, number of steps per episode = number of time slots per episode\n",
    "#No terminating condition - each episode run up to \"nSteps\" - time slots\n",
    "num_episodes = 600 #total no. of episodes the agent will play during training\n",
    "max_steps_per_episode = nSteps #one of the terminating condition, max no. steps in a single episode\n",
    "\n",
    "learning_rate = 0.1 #high LR focus more on new, less on old; low LR learn nothing, use prior knowledge\n",
    "discount_rate = 0.99 #high DR focus more on distant reward, low DR focus more on immediate reward\n",
    "\n",
    "#epsilon-greedy\n",
    "exploration_rate = 1\n",
    "max_exploration_rate = 1\n",
    "min_exploration_rate = 0.01\n",
    "exploration_decay_rate = 0.01"
   ]
  },
  {
   "cell_type": "code",
   "execution_count": 12,
   "id": "b548d356",
   "metadata": {
    "scrolled": false
   },
   "outputs": [],
   "source": [
    "all_epochs = []\n",
    "all_iterations = []\n",
    "all_exploration_rate = []\n",
    "rewards_all_steps = []\n",
    "avg_reward_all_episodes = []\n",
    "rewards_current_step = 0\n",
    "iterations = 0\n",
    "epochs = 0\n",
    "reward = np.zeros(max_steps_per_episode)\n",
    "P_R_AP = np.zeros(max_steps_per_episode)\n",
    "P_N = np.zeros(max_steps_per_episode)\n",
    "SNR = np.zeros(max_steps_per_episode)\n",
    "EB = 0\n",
    "# Q-learning algorithm\n",
    "for episode in range(num_episodes):\n",
    "    current_state = 0\n",
    "    epochs += 1\n",
    "    #rewards_current_step = 0\n",
    "    rewards_each_episode = []\n",
    "    #avg_reward = 0\n",
    "    for step in range(max_steps_per_episode):\n",
    "        iterations += 1\n",
    "        # Exploration-exploitation trade-off\n",
    "        p0 = random.uniform(0, 1)\n",
    "        if p0 > exploration_rate:\n",
    "            action = np.argmax(q_table[current_state][:]) \n",
    "            #print('Exploited Action: ',action)\n",
    "        else:\n",
    "            action = random.choice(action_space) #randomly choose between 0 and 1\n",
    "            #print('Random Action: ',action)\n",
    "        mu = action #action decides whether backscatter (action = 1) or harvest (action =0)\n",
    "        \n",
    "        if (EB>=14):\n",
    "            mu = 1\n",
    "        elif (EB<=1):\n",
    "            mu = 0\n",
    "        #(s_bb,t)= bpsk_mod(mu,L) # BPSK modulation(waveform) - baseband\n",
    "        #k = 0 #fixed channel \n",
    "        #f_k = Fc + (k*deltaf)\n",
    "        #reflection coefficient: s_bb = -1 for mu = 0=> non-reflecting state, s_bb = 1 for mu = 1=>reflecting state\n",
    "        #unwanted_signal = (P_J*JAP_ChannelGain(f_k)*abs(x_J)) + loopback_Channel()*abs(x) + abs(noise((x+x_J),EbN0dB[step],L))\n",
    "        #y_AP = ((s_bb[step]**2)*P_T*APBD_ChannelGain(f_k)*abs(x)) + ((s_bb[step]**2)*P_J*APBD_ChannelGain(f_k)*abs(x)*JBD_ChannelGain(f_k)*abs(x_J)) + \\\n",
    "        #unwanted_signal\n",
    "        #P_R_AP[step] = sum(y_AP)/N\n",
    "        #P_N[step] = sum(unwanted_signal)/N\n",
    "        #SNR[step] =  P_R_AP[step]/P_N[step]\n",
    "        #print('AP uses channel '+str(k)+' having frequency '+str(f_k))\n",
    "        \n",
    "        #next state\n",
    "        EB = battery_state(mu) #calculate the EB value for this mu value at this time slot\n",
    "               \n",
    "        reward[step] = mu #reward = 1 when backscatters (i.e. action =1), reward = 0 when harvests (i.e. action =0)\n",
    "        #print(reward[step])\n",
    "        state_space.append(EB)\n",
    "        state_space_sorted = list(dict.fromkeys(state_space)) #avoiding repetition of same EB values\n",
    "        #print(state_space_sorted)\n",
    "        new_state = state_space_sorted.index(EB) #retrieve the index number that matches with the EB values \n",
    "        #print(new_state)\n",
    "        # Update Q-table for Q(s,a)\n",
    "        q_table[current_state][action] = (1 - learning_rate) * q_table[current_state][action] + \\\n",
    "        learning_rate * (reward[step] + discount_rate * np.max(q_table[new_state][:]))\n",
    "        \n",
    "        # Transition to the next state\n",
    "        current_state = new_state\n",
    "        # Add new reward        \n",
    "        rewards_current_step = reward[step]\n",
    "        #print(rewards_current_step)\n",
    "        rewards_each_episode.append(rewards_current_step)\n",
    "        rewards_all_steps.append(rewards_current_step)\n",
    "        \n",
    "        all_iterations.append(iterations)\n",
    "    avg_reward = sum(rewards_each_episode)/max_steps_per_episode\n",
    "    avg_reward_all_episodes.append(avg_reward)\n",
    "    # Exploration rate decay (at the end of one episode, we need to update the exploration rate)\n",
    "    exploration_rate = min_exploration_rate + \\\n",
    "    (max_exploration_rate - min_exploration_rate) * np.exp(-exploration_decay_rate*episode)\n",
    "    all_epochs.append(epochs)\n",
    "    all_exploration_rate.append(exploration_rate)\n",
    "\n"
   ]
  },
  {
   "cell_type": "code",
   "execution_count": 13,
   "id": "9f52e3dd",
   "metadata": {},
   "outputs": [
    {
     "name": "stdout",
     "output_type": "stream",
     "text": [
      "\n",
      "\n",
      "********Q-table********\n",
      "\n",
      "[[88.78768783 89.58917857]\n",
      " [88.91764084 89.678564  ]\n",
      " [89.03747396 89.71377566]\n",
      " [89.4459976  89.55637154]\n",
      " [89.13071729 89.65669447]\n",
      " [88.94432605 89.51314761]\n",
      " [88.93306375 89.67781374]\n",
      " [88.80175472 89.69973418]\n",
      " [89.01404179 89.63534793]\n",
      " [88.37681178 88.67659953]]\n"
     ]
    }
   ],
   "source": [
    "# Print updated Q-table\n",
    "print(\"\\n\\n********Q-table********\\n\")\n",
    "print(q_table)"
   ]
  },
  {
   "cell_type": "markdown",
   "id": "b9fcc5df",
   "metadata": {},
   "source": [
    "## Plots ##"
   ]
  },
  {
   "cell_type": "code",
   "execution_count": 21,
   "id": "7df04fa1",
   "metadata": {},
   "outputs": [
    {
     "data": {
      "image/png": "[encoded data removed]",
      "text/plain": [
       "<Figure size 432x288 with 1 Axes>"
      ]
     },
     "metadata": {
      "needs_background": "light"
     },
     "output_type": "display_data"
    }
   ],
   "source": [
    "# import numpy as np\n",
    "# import matplotlib.pyplot as plt\n",
    "\n",
    "# Example data (replace this with your own data)\n",
    "# episodes = np.arange(1, 101)  # episode numbers\n",
    "# real_rewards = np.random.normal(0, 1, size=(100,))  # replace with your actual rewards\n",
    "\n",
    "# Function to calculate a simple moving average\n",
    "def moving_average(data, window_size):\n",
    "    return np.convolve(data, np.ones(window_size)/window_size, mode='valid')\n",
    "\n",
    "# Set the window size for smoothing\n",
    "window_size = 5\n",
    "\n",
    "# Calculate the moving average of real rewards\n",
    "smoothed_rewards = moving_average(avg_reward_all_episodes, window_size)\n",
    "\n",
    "fig1, ax1 = plt.subplots(nrows=1,ncols = 1)\n",
    "ax1.semilogy(all_epochs,avg_reward_all_episodes,'-*', alpha=0.5)\n",
    "ax1.set_xlabel(r'Episode')\n",
    "ax1.set_ylabel(r'Average Reward')\n",
    "ax1.set_title('Average Reward over Multiple Episodes')\n",
    "plt.grid(True)\n",
    "\n",
    "\n",
    "# Plot the original real rewards with reduced opacity\n",
    "# plt.plot(episodes, real_rewards, label='Real Rewards', color='blue', alpha=0.5)\n",
    "\n",
    "# Plot the smoothed rewards\n",
    "plt.plot(all_epochs[:-window_size+1], smoothed_rewards, label=f'Smoothed Rewards (Window Size={window_size})', color='blue')\n",
    "\n",
    "# Add labels and legend\n",
    "# plt.xlabel('Episode')\n",
    "# plt.ylabel('Reward')\n",
    "# plt.title('Average Reward vs Episode with Smoothed Rewards')\n",
    "# plt.legend()\n",
    "\n",
    "# Show the plot\n",
    "# plt.show()\n",
    "plt.tight_layout()\n",
    "save_results_to = 'C:/Users/Zunayeed/Desktop/PhD/WICL/NSF-AoF Project/Simulation BC EH/New Plots/Throughput/'\n",
    "plt.savefig(save_results_to + 'Avg_Reward_400S_600E.png', dpi = 300)"
   ]
  },
  {
   "cell_type": "code",
   "execution_count": 19,
   "id": "be748cf4",
   "metadata": {},
   "outputs": [
    {
     "data": {
      "image/png": "[encoded data removed]",
      "text/plain": [
       "<Figure size 432x288 with 1 Axes>"
      ]
     },
     "metadata": {
      "needs_background": "light"
     },
     "output_type": "display_data"
    }
   ],
   "source": [
    "# import numpy as np\n",
    "# import matplotlib.pyplot as plt\n",
    "from matplotlib.ticker import PercentFormatter\n",
    "\n",
    "# Generate an array of random values (replace this with your actual data)\n",
    "# data = np.random.randn(400)\n",
    "\n",
    "# Plot the histogram\n",
    "plt.hist(state_space_sorted, bins=20, weights=np.ones(len(state_space_sorted)) / len(state_space_sorted), color = 'red')\n",
    "# plt.hist(data, weights=np.ones(len(data)) / len(data))\n",
    "plt.gca().yaxis.set_major_formatter(PercentFormatter(1))\n",
    "\n",
    "# Add labels and title\n",
    "plt.xlabel('BD Battery State')\n",
    "plt.ylabel('Percent (%)')\n",
    "plt.title('Battery Energy Status')\n",
    "\n",
    "# plt.savefig('BD_Bat_Static_400S_200E.png')\n",
    "save_results_to = 'C:/Users/Zunayeed/Desktop/PhD/WICL/NSF-AoF Project/Simulation BC EH/New Plots/Energy/'\n",
    "plt.savefig(save_results_to + 'BD_Bat_BD_Learning_Agent.png', dpi = 300)"
   ]
  },
  {
   "cell_type": "code",
   "execution_count": 14,
   "id": "bc3d3152",
   "metadata": {},
   "outputs": [
    {
     "data": {
      "image/png": "[encoded data removed]",
      "text/plain": [
       "<Figure size 432x288 with 1 Axes>"
      ]
     },
     "metadata": {
      "needs_background": "light"
     },
     "output_type": "display_data"
    }
   ],
   "source": [
    "#Plotting exploration rate over 100 episodes\n",
    "\n",
    "plt.plot(all_epochs,all_exploration_rate,'->') \n",
    "plt.xlabel(r'Episode')\n",
    "plt.ylabel(r'Exploration Rate')\n",
    "plt.title('Exploration Rate over Multiple Episodes')\n",
    "plt.grid(True)\n",
    "\n",
    "#plt.savefig('exploration_rate.png')"
   ]
  }
 ],
 "metadata": {
  "kernelspec": {
   "display_name": "Python 3 (ipykernel)",
   "language": "python",
   "name": "python3"
  },
  "language_info": {
   "codemirror_mode": {
    "name": "ipython",
    "version": 3
   },
   "file_extension": ".py",
   "mimetype": "text/x-python",
   "name": "python",
   "nbconvert_exporter": "python",
   "pygments_lexer": "ipython3",
   "version": "3.9.12"
  }
 },
 "nbformat": 4,
 "nbformat_minor": 5
}
